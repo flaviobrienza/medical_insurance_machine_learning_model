{
 "cells": [
  {
   "attachments": {},
   "cell_type": "markdown",
   "metadata": {},
   "source": [
    "# A Machine Learning Example for the Insurance Sector  \n",
    "\n",
    "Dataset: https://www.kaggle.com/datasets/mirichoi0218/insurance"
   ]
  },
  {
   "cell_type": "code",
   "execution_count": 1,
   "metadata": {},
   "outputs": [],
   "source": [
    "import pandas as pd\n",
    "import numpy as np\n",
    "import matplotlib\n",
    "import matplotlib.pyplot as plt\n",
    "import seaborn as sns\n",
    "%matplotlib inline\n",
    "\n",
    "sns.set_style(\"darkgrid\")\n",
    "matplotlib.rcParams['font.size'] = 14\n",
    "matplotlib.rcParams['figure.figsize'] = (15, 5)\n",
    "matplotlib.rcParams['figure.facecolor'] = '#00000000'\n",
    "\n",
    "import warnings\n",
    "warnings.simplefilter(action='ignore')"
   ]
  },
  {
   "cell_type": "markdown",
   "metadata": {},
   "source": [
    "# Importing Data"
   ]
  },
  {
   "cell_type": "code",
   "execution_count": 2,
   "metadata": {},
   "outputs": [
    {
     "data": {
      "text/html": [
       "<div>\n",
       "<style scoped>\n",
       "    .dataframe tbody tr th:only-of-type {\n",
       "        vertical-align: middle;\n",
       "    }\n",
       "\n",
       "    .dataframe tbody tr th {\n",
       "        vertical-align: top;\n",
       "    }\n",
       "\n",
       "    .dataframe thead th {\n",
       "        text-align: right;\n",
       "    }\n",
       "</style>\n",
       "<table border=\"1\" class=\"dataframe\">\n",
       "  <thead>\n",
       "    <tr style=\"text-align: right;\">\n",
       "      <th></th>\n",
       "      <th>age</th>\n",
       "      <th>sex</th>\n",
       "      <th>bmi</th>\n",
       "      <th>children</th>\n",
       "      <th>smoker</th>\n",
       "      <th>region</th>\n",
       "      <th>charges</th>\n",
       "    </tr>\n",
       "  </thead>\n",
       "  <tbody>\n",
       "    <tr>\n",
       "      <th>0</th>\n",
       "      <td>19</td>\n",
       "      <td>female</td>\n",
       "      <td>27.900</td>\n",
       "      <td>0</td>\n",
       "      <td>yes</td>\n",
       "      <td>southwest</td>\n",
       "      <td>16884.92400</td>\n",
       "    </tr>\n",
       "    <tr>\n",
       "      <th>1</th>\n",
       "      <td>18</td>\n",
       "      <td>male</td>\n",
       "      <td>33.770</td>\n",
       "      <td>1</td>\n",
       "      <td>no</td>\n",
       "      <td>southeast</td>\n",
       "      <td>1725.55230</td>\n",
       "    </tr>\n",
       "    <tr>\n",
       "      <th>2</th>\n",
       "      <td>28</td>\n",
       "      <td>male</td>\n",
       "      <td>33.000</td>\n",
       "      <td>3</td>\n",
       "      <td>no</td>\n",
       "      <td>southeast</td>\n",
       "      <td>4449.46200</td>\n",
       "    </tr>\n",
       "    <tr>\n",
       "      <th>3</th>\n",
       "      <td>33</td>\n",
       "      <td>male</td>\n",
       "      <td>22.705</td>\n",
       "      <td>0</td>\n",
       "      <td>no</td>\n",
       "      <td>northwest</td>\n",
       "      <td>21984.47061</td>\n",
       "    </tr>\n",
       "    <tr>\n",
       "      <th>4</th>\n",
       "      <td>32</td>\n",
       "      <td>male</td>\n",
       "      <td>28.880</td>\n",
       "      <td>0</td>\n",
       "      <td>no</td>\n",
       "      <td>northwest</td>\n",
       "      <td>3866.85520</td>\n",
       "    </tr>\n",
       "  </tbody>\n",
       "</table>\n",
       "</div>"
      ],
      "text/plain": [
       "   age     sex     bmi  children smoker     region      charges\n",
       "0   19  female  27.900         0    yes  southwest  16884.92400\n",
       "1   18    male  33.770         1     no  southeast   1725.55230\n",
       "2   28    male  33.000         3     no  southeast   4449.46200\n",
       "3   33    male  22.705         0     no  northwest  21984.47061\n",
       "4   32    male  28.880         0     no  northwest   3866.85520"
      ]
     },
     "execution_count": 2,
     "metadata": {},
     "output_type": "execute_result"
    }
   ],
   "source": [
    "insurance_df = pd.read_csv('./insurance.csv')\n",
    "insurance_df.head()"
   ]
  },
  {
   "cell_type": "code",
   "execution_count": 3,
   "metadata": {},
   "outputs": [
    {
     "name": "stdout",
     "output_type": "stream",
     "text": [
      "<class 'pandas.core.frame.DataFrame'>\n",
      "RangeIndex: 1338 entries, 0 to 1337\n",
      "Data columns (total 7 columns):\n",
      " #   Column    Non-Null Count  Dtype  \n",
      "---  ------    --------------  -----  \n",
      " 0   age       1338 non-null   int64  \n",
      " 1   sex       1338 non-null   object \n",
      " 2   bmi       1338 non-null   float64\n",
      " 3   children  1338 non-null   int64  \n",
      " 4   smoker    1338 non-null   object \n",
      " 5   region    1338 non-null   object \n",
      " 6   charges   1338 non-null   float64\n",
      "dtypes: float64(2), int64(2), object(3)\n",
      "memory usage: 73.3+ KB\n"
     ]
    }
   ],
   "source": [
    "insurance_df.info()"
   ]
  },
  {
   "cell_type": "code",
   "execution_count": 4,
   "metadata": {},
   "outputs": [
    {
     "data": {
      "text/html": [
       "<div>\n",
       "<style scoped>\n",
       "    .dataframe tbody tr th:only-of-type {\n",
       "        vertical-align: middle;\n",
       "    }\n",
       "\n",
       "    .dataframe tbody tr th {\n",
       "        vertical-align: top;\n",
       "    }\n",
       "\n",
       "    .dataframe thead th {\n",
       "        text-align: right;\n",
       "    }\n",
       "</style>\n",
       "<table border=\"1\" class=\"dataframe\">\n",
       "  <thead>\n",
       "    <tr style=\"text-align: right;\">\n",
       "      <th></th>\n",
       "      <th>age</th>\n",
       "      <th>sex</th>\n",
       "      <th>bmi</th>\n",
       "      <th>children</th>\n",
       "      <th>smoker</th>\n",
       "      <th>region</th>\n",
       "      <th>charges</th>\n",
       "    </tr>\n",
       "  </thead>\n",
       "  <tbody>\n",
       "    <tr>\n",
       "      <th>195</th>\n",
       "      <td>19</td>\n",
       "      <td>male</td>\n",
       "      <td>30.59</td>\n",
       "      <td>0</td>\n",
       "      <td>no</td>\n",
       "      <td>northwest</td>\n",
       "      <td>1639.5631</td>\n",
       "    </tr>\n",
       "    <tr>\n",
       "      <th>581</th>\n",
       "      <td>19</td>\n",
       "      <td>male</td>\n",
       "      <td>30.59</td>\n",
       "      <td>0</td>\n",
       "      <td>no</td>\n",
       "      <td>northwest</td>\n",
       "      <td>1639.5631</td>\n",
       "    </tr>\n",
       "  </tbody>\n",
       "</table>\n",
       "</div>"
      ],
      "text/plain": [
       "     age   sex    bmi  children smoker     region    charges\n",
       "195   19  male  30.59         0     no  northwest  1639.5631\n",
       "581   19  male  30.59         0     no  northwest  1639.5631"
      ]
     },
     "execution_count": 4,
     "metadata": {},
     "output_type": "execute_result"
    }
   ],
   "source": [
    "insurance_df[insurance_df.duplicated(keep=False)]"
   ]
  },
  {
   "cell_type": "markdown",
   "metadata": {},
   "source": [
    "There is one duplicated value. It is better to drop it."
   ]
  },
  {
   "cell_type": "code",
   "execution_count": 5,
   "metadata": {},
   "outputs": [
    {
     "data": {
      "text/html": [
       "<div>\n",
       "<style scoped>\n",
       "    .dataframe tbody tr th:only-of-type {\n",
       "        vertical-align: middle;\n",
       "    }\n",
       "\n",
       "    .dataframe tbody tr th {\n",
       "        vertical-align: top;\n",
       "    }\n",
       "\n",
       "    .dataframe thead th {\n",
       "        text-align: right;\n",
       "    }\n",
       "</style>\n",
       "<table border=\"1\" class=\"dataframe\">\n",
       "  <thead>\n",
       "    <tr style=\"text-align: right;\">\n",
       "      <th></th>\n",
       "      <th>age</th>\n",
       "      <th>sex</th>\n",
       "      <th>bmi</th>\n",
       "      <th>children</th>\n",
       "      <th>smoker</th>\n",
       "      <th>region</th>\n",
       "      <th>charges</th>\n",
       "    </tr>\n",
       "  </thead>\n",
       "  <tbody>\n",
       "    <tr>\n",
       "      <th>0</th>\n",
       "      <td>19</td>\n",
       "      <td>female</td>\n",
       "      <td>27.900</td>\n",
       "      <td>0</td>\n",
       "      <td>yes</td>\n",
       "      <td>southwest</td>\n",
       "      <td>16884.92400</td>\n",
       "    </tr>\n",
       "    <tr>\n",
       "      <th>1</th>\n",
       "      <td>18</td>\n",
       "      <td>male</td>\n",
       "      <td>33.770</td>\n",
       "      <td>1</td>\n",
       "      <td>no</td>\n",
       "      <td>southeast</td>\n",
       "      <td>1725.55230</td>\n",
       "    </tr>\n",
       "    <tr>\n",
       "      <th>2</th>\n",
       "      <td>28</td>\n",
       "      <td>male</td>\n",
       "      <td>33.000</td>\n",
       "      <td>3</td>\n",
       "      <td>no</td>\n",
       "      <td>southeast</td>\n",
       "      <td>4449.46200</td>\n",
       "    </tr>\n",
       "    <tr>\n",
       "      <th>3</th>\n",
       "      <td>33</td>\n",
       "      <td>male</td>\n",
       "      <td>22.705</td>\n",
       "      <td>0</td>\n",
       "      <td>no</td>\n",
       "      <td>northwest</td>\n",
       "      <td>21984.47061</td>\n",
       "    </tr>\n",
       "    <tr>\n",
       "      <th>4</th>\n",
       "      <td>32</td>\n",
       "      <td>male</td>\n",
       "      <td>28.880</td>\n",
       "      <td>0</td>\n",
       "      <td>no</td>\n",
       "      <td>northwest</td>\n",
       "      <td>3866.85520</td>\n",
       "    </tr>\n",
       "    <tr>\n",
       "      <th>...</th>\n",
       "      <td>...</td>\n",
       "      <td>...</td>\n",
       "      <td>...</td>\n",
       "      <td>...</td>\n",
       "      <td>...</td>\n",
       "      <td>...</td>\n",
       "      <td>...</td>\n",
       "    </tr>\n",
       "    <tr>\n",
       "      <th>1333</th>\n",
       "      <td>50</td>\n",
       "      <td>male</td>\n",
       "      <td>30.970</td>\n",
       "      <td>3</td>\n",
       "      <td>no</td>\n",
       "      <td>northwest</td>\n",
       "      <td>10600.54830</td>\n",
       "    </tr>\n",
       "    <tr>\n",
       "      <th>1334</th>\n",
       "      <td>18</td>\n",
       "      <td>female</td>\n",
       "      <td>31.920</td>\n",
       "      <td>0</td>\n",
       "      <td>no</td>\n",
       "      <td>northeast</td>\n",
       "      <td>2205.98080</td>\n",
       "    </tr>\n",
       "    <tr>\n",
       "      <th>1335</th>\n",
       "      <td>18</td>\n",
       "      <td>female</td>\n",
       "      <td>36.850</td>\n",
       "      <td>0</td>\n",
       "      <td>no</td>\n",
       "      <td>southeast</td>\n",
       "      <td>1629.83350</td>\n",
       "    </tr>\n",
       "    <tr>\n",
       "      <th>1336</th>\n",
       "      <td>21</td>\n",
       "      <td>female</td>\n",
       "      <td>25.800</td>\n",
       "      <td>0</td>\n",
       "      <td>no</td>\n",
       "      <td>southwest</td>\n",
       "      <td>2007.94500</td>\n",
       "    </tr>\n",
       "    <tr>\n",
       "      <th>1337</th>\n",
       "      <td>61</td>\n",
       "      <td>female</td>\n",
       "      <td>29.070</td>\n",
       "      <td>0</td>\n",
       "      <td>yes</td>\n",
       "      <td>northwest</td>\n",
       "      <td>29141.36030</td>\n",
       "    </tr>\n",
       "  </tbody>\n",
       "</table>\n",
       "<p>1338 rows × 7 columns</p>\n",
       "</div>"
      ],
      "text/plain": [
       "      age     sex     bmi  children smoker     region      charges\n",
       "0      19  female  27.900         0    yes  southwest  16884.92400\n",
       "1      18    male  33.770         1     no  southeast   1725.55230\n",
       "2      28    male  33.000         3     no  southeast   4449.46200\n",
       "3      33    male  22.705         0     no  northwest  21984.47061\n",
       "4      32    male  28.880         0     no  northwest   3866.85520\n",
       "...   ...     ...     ...       ...    ...        ...          ...\n",
       "1333   50    male  30.970         3     no  northwest  10600.54830\n",
       "1334   18  female  31.920         0     no  northeast   2205.98080\n",
       "1335   18  female  36.850         0     no  southeast   1629.83350\n",
       "1336   21  female  25.800         0     no  southwest   2007.94500\n",
       "1337   61  female  29.070         0    yes  northwest  29141.36030\n",
       "\n",
       "[1338 rows x 7 columns]"
      ]
     },
     "execution_count": 5,
     "metadata": {},
     "output_type": "execute_result"
    }
   ],
   "source": [
    "insurance_df"
   ]
  },
  {
   "cell_type": "code",
   "execution_count": 6,
   "metadata": {},
   "outputs": [
    {
     "data": {
      "text/html": [
       "<div>\n",
       "<style scoped>\n",
       "    .dataframe tbody tr th:only-of-type {\n",
       "        vertical-align: middle;\n",
       "    }\n",
       "\n",
       "    .dataframe tbody tr th {\n",
       "        vertical-align: top;\n",
       "    }\n",
       "\n",
       "    .dataframe thead th {\n",
       "        text-align: right;\n",
       "    }\n",
       "</style>\n",
       "<table border=\"1\" class=\"dataframe\">\n",
       "  <thead>\n",
       "    <tr style=\"text-align: right;\">\n",
       "      <th></th>\n",
       "      <th>age</th>\n",
       "      <th>sex</th>\n",
       "      <th>bmi</th>\n",
       "      <th>children</th>\n",
       "      <th>smoker</th>\n",
       "      <th>region</th>\n",
       "      <th>charges</th>\n",
       "    </tr>\n",
       "  </thead>\n",
       "  <tbody>\n",
       "    <tr>\n",
       "      <th>0</th>\n",
       "      <td>19</td>\n",
       "      <td>female</td>\n",
       "      <td>27.900</td>\n",
       "      <td>0</td>\n",
       "      <td>yes</td>\n",
       "      <td>southwest</td>\n",
       "      <td>16884.92400</td>\n",
       "    </tr>\n",
       "    <tr>\n",
       "      <th>1</th>\n",
       "      <td>18</td>\n",
       "      <td>male</td>\n",
       "      <td>33.770</td>\n",
       "      <td>1</td>\n",
       "      <td>no</td>\n",
       "      <td>southeast</td>\n",
       "      <td>1725.55230</td>\n",
       "    </tr>\n",
       "    <tr>\n",
       "      <th>2</th>\n",
       "      <td>28</td>\n",
       "      <td>male</td>\n",
       "      <td>33.000</td>\n",
       "      <td>3</td>\n",
       "      <td>no</td>\n",
       "      <td>southeast</td>\n",
       "      <td>4449.46200</td>\n",
       "    </tr>\n",
       "    <tr>\n",
       "      <th>3</th>\n",
       "      <td>33</td>\n",
       "      <td>male</td>\n",
       "      <td>22.705</td>\n",
       "      <td>0</td>\n",
       "      <td>no</td>\n",
       "      <td>northwest</td>\n",
       "      <td>21984.47061</td>\n",
       "    </tr>\n",
       "    <tr>\n",
       "      <th>4</th>\n",
       "      <td>32</td>\n",
       "      <td>male</td>\n",
       "      <td>28.880</td>\n",
       "      <td>0</td>\n",
       "      <td>no</td>\n",
       "      <td>northwest</td>\n",
       "      <td>3866.85520</td>\n",
       "    </tr>\n",
       "    <tr>\n",
       "      <th>...</th>\n",
       "      <td>...</td>\n",
       "      <td>...</td>\n",
       "      <td>...</td>\n",
       "      <td>...</td>\n",
       "      <td>...</td>\n",
       "      <td>...</td>\n",
       "      <td>...</td>\n",
       "    </tr>\n",
       "    <tr>\n",
       "      <th>1333</th>\n",
       "      <td>50</td>\n",
       "      <td>male</td>\n",
       "      <td>30.970</td>\n",
       "      <td>3</td>\n",
       "      <td>no</td>\n",
       "      <td>northwest</td>\n",
       "      <td>10600.54830</td>\n",
       "    </tr>\n",
       "    <tr>\n",
       "      <th>1334</th>\n",
       "      <td>18</td>\n",
       "      <td>female</td>\n",
       "      <td>31.920</td>\n",
       "      <td>0</td>\n",
       "      <td>no</td>\n",
       "      <td>northeast</td>\n",
       "      <td>2205.98080</td>\n",
       "    </tr>\n",
       "    <tr>\n",
       "      <th>1335</th>\n",
       "      <td>18</td>\n",
       "      <td>female</td>\n",
       "      <td>36.850</td>\n",
       "      <td>0</td>\n",
       "      <td>no</td>\n",
       "      <td>southeast</td>\n",
       "      <td>1629.83350</td>\n",
       "    </tr>\n",
       "    <tr>\n",
       "      <th>1336</th>\n",
       "      <td>21</td>\n",
       "      <td>female</td>\n",
       "      <td>25.800</td>\n",
       "      <td>0</td>\n",
       "      <td>no</td>\n",
       "      <td>southwest</td>\n",
       "      <td>2007.94500</td>\n",
       "    </tr>\n",
       "    <tr>\n",
       "      <th>1337</th>\n",
       "      <td>61</td>\n",
       "      <td>female</td>\n",
       "      <td>29.070</td>\n",
       "      <td>0</td>\n",
       "      <td>yes</td>\n",
       "      <td>northwest</td>\n",
       "      <td>29141.36030</td>\n",
       "    </tr>\n",
       "  </tbody>\n",
       "</table>\n",
       "<p>1337 rows × 7 columns</p>\n",
       "</div>"
      ],
      "text/plain": [
       "      age     sex     bmi  children smoker     region      charges\n",
       "0      19  female  27.900         0    yes  southwest  16884.92400\n",
       "1      18    male  33.770         1     no  southeast   1725.55230\n",
       "2      28    male  33.000         3     no  southeast   4449.46200\n",
       "3      33    male  22.705         0     no  northwest  21984.47061\n",
       "4      32    male  28.880         0     no  northwest   3866.85520\n",
       "...   ...     ...     ...       ...    ...        ...          ...\n",
       "1333   50    male  30.970         3     no  northwest  10600.54830\n",
       "1334   18  female  31.920         0     no  northeast   2205.98080\n",
       "1335   18  female  36.850         0     no  southeast   1629.83350\n",
       "1336   21  female  25.800         0     no  southwest   2007.94500\n",
       "1337   61  female  29.070         0    yes  northwest  29141.36030\n",
       "\n",
       "[1337 rows x 7 columns]"
      ]
     },
     "execution_count": 6,
     "metadata": {},
     "output_type": "execute_result"
    }
   ],
   "source": [
    "insurance_df_no_dupl = insurance_df.drop_duplicates()\n",
    "insurance_df_no_dupl"
   ]
  },
  {
   "cell_type": "markdown",
   "metadata": {},
   "source": [
    "# Exploratory Data Analysis"
   ]
  },
  {
   "cell_type": "markdown",
   "metadata": {},
   "source": [
    "## Exploring the Target Variable 'charges'  \n",
    "\n",
    "Before starting with the other variables it is important to analyze the distribution of the 'charges' feature."
   ]
  },
  {
   "cell_type": "code",
   "execution_count": 7,
   "metadata": {},
   "outputs": [
    {
     "data": {
      "image/png": "[encoded data removed]",
      "text/plain": [
       "<Figure size 1080x360 with 1 Axes>"
      ]
     },
     "metadata": {
      "needs_background": "light"
     },
     "output_type": "display_data"
    }
   ],
   "source": [
    "sns.histplot(data=insurance_df_no_dupl, x='charges', bins=50 ,kde=True);"
   ]
  },
  {
   "cell_type": "code",
   "execution_count": 8,
   "metadata": {},
   "outputs": [
    {
     "data": {
      "text/plain": [
       "count     1337.000000\n",
       "mean     13279.121487\n",
       "std      12110.359656\n",
       "min       1121.873900\n",
       "25%       4746.344000\n",
       "50%       9386.161300\n",
       "75%      16657.717450\n",
       "max      63770.428010\n",
       "Name: charges, dtype: float64"
      ]
     },
     "execution_count": 8,
     "metadata": {},
     "output_type": "execute_result"
    }
   ],
   "source": [
    "insurance_df_no_dupl.charges.describe()"
   ]
  },
  {
   "cell_type": "markdown",
   "metadata": {},
   "source": [
    "The distribution is right-skewed.  \n",
    "The majority of the fees are concentrated in the range between $0 and $10000. "
   ]
  },
  {
   "cell_type": "markdown",
   "metadata": {},
   "source": [
    "## Exploring the Variable Age"
   ]
  },
  {
   "cell_type": "code",
   "execution_count": 9,
   "metadata": {},
   "outputs": [
    {
     "data": {
      "text/plain": [
       "count    1337.000000\n",
       "mean       39.222139\n",
       "std        14.044333\n",
       "min        18.000000\n",
       "25%        27.000000\n",
       "50%        39.000000\n",
       "75%        51.000000\n",
       "max        64.000000\n",
       "Name: age, dtype: float64"
      ]
     },
     "execution_count": 9,
     "metadata": {},
     "output_type": "execute_result"
    }
   ],
   "source": [
    "insurance_df_no_dupl.age.describe()"
   ]
  },
  {
   "cell_type": "code",
   "execution_count": 10,
   "metadata": {},
   "outputs": [
    {
     "data": {
      "image/png": "[encoded data removed]",
      "text/plain": [
       "<Figure size 1080x360 with 1 Axes>"
      ]
     },
     "metadata": {
      "needs_background": "light"
     },
     "output_type": "display_data"
    }
   ],
   "source": [
    "sns.boxplot(data=insurance_df_no_dupl, x='age');"
   ]
  },
  {
   "attachments": {},
   "cell_type": "markdown",
   "metadata": {},
   "source": [
    "## Exploring the Sex Variable"
   ]
  },
  {
   "cell_type": "code",
   "execution_count": 11,
   "metadata": {},
   "outputs": [
    {
     "data": {
      "text/plain": [
       "male      675\n",
       "female    662\n",
       "Name: sex, dtype: int64"
      ]
     },
     "execution_count": 11,
     "metadata": {},
     "output_type": "execute_result"
    }
   ],
   "source": [
    "insurance_df_no_dupl.sex.value_counts()"
   ]
  },
  {
   "attachments": {},
   "cell_type": "markdown",
   "metadata": {},
   "source": [
    "The distribution of sex is balanced. What is the amount of charges paid by sex?"
   ]
  },
  {
   "cell_type": "code",
   "execution_count": 12,
   "metadata": {},
   "outputs": [
    {
     "data": {
      "image/png": "[encoded data removed]",
      "text/plain": [
       "<Figure size 1080x360 with 1 Axes>"
      ]
     },
     "metadata": {
      "needs_background": "light"
     },
     "output_type": "display_data"
    }
   ],
   "source": [
    "sns.boxplot(data=insurance_df_no_dupl, x='sex', y='charges')\n",
    "plt.title('Sex Boxplot');"
   ]
  },
  {
   "attachments": {},
   "cell_type": "markdown",
   "metadata": {},
   "source": [
    "Males seem to pay quite more in charges than females."
   ]
  },
  {
   "cell_type": "code",
   "execution_count": 13,
   "metadata": {},
   "outputs": [
    {
     "data": {
      "text/plain": [
       "sex\n",
       "female    12569.578844\n",
       "male      13974.998864\n",
       "Name: charges, dtype: float64"
      ]
     },
     "execution_count": 13,
     "metadata": {},
     "output_type": "execute_result"
    }
   ],
   "source": [
    "insurance_df_no_dupl.groupby('sex')['charges'].mean()"
   ]
  },
  {
   "cell_type": "code",
   "execution_count": 14,
   "metadata": {},
   "outputs": [
    {
     "data": {
      "text/plain": [
       "1405.4200199276147"
      ]
     },
     "execution_count": 14,
     "metadata": {},
     "output_type": "execute_result"
    }
   ],
   "source": [
    "females_charges = insurance_df_no_dupl.groupby('sex')['charges'].mean()[0]\n",
    "male_charges = insurance_df_no_dupl.groupby('sex')['charges'].mean()[1]\n",
    "male_charges-females_charges"
   ]
  },
  {
   "attachments": {},
   "cell_type": "markdown",
   "metadata": {},
   "source": [
    "Indeed, on average, males pay $1405.42 more."
   ]
  },
  {
   "attachments": {},
   "cell_type": "markdown",
   "metadata": {},
   "source": [
    "A more detailed description of the variable \"charges\" described by gender."
   ]
  },
  {
   "cell_type": "code",
   "execution_count": 15,
   "metadata": {},
   "outputs": [
    {
     "data": {
      "text/plain": [
       "count      675.000000\n",
       "mean     13974.998864\n",
       "std      12971.958663\n",
       "min       1121.873900\n",
       "25%       4654.022675\n",
       "50%       9377.904700\n",
       "75%      19006.685500\n",
       "max      62592.873090\n",
       "Name: charges, dtype: float64"
      ]
     },
     "execution_count": 15,
     "metadata": {},
     "output_type": "execute_result"
    }
   ],
   "source": [
    "insurance_df_no_dupl[insurance_df_no_dupl.sex=='male'].charges.describe()"
   ]
  },
  {
   "cell_type": "code",
   "execution_count": 16,
   "metadata": {},
   "outputs": [
    {
     "data": {
      "text/plain": [
       "count      662.000000\n",
       "mean     12569.578844\n",
       "std      11128.703801\n",
       "min       1607.510100\n",
       "25%       4885.158700\n",
       "50%       9412.962500\n",
       "75%      14454.691825\n",
       "max      63770.428010\n",
       "Name: charges, dtype: float64"
      ]
     },
     "execution_count": 16,
     "metadata": {},
     "output_type": "execute_result"
    }
   ],
   "source": [
    "insurance_df_no_dupl[insurance_df_no_dupl.sex=='female'].charges.describe()"
   ]
  },
  {
   "attachments": {},
   "cell_type": "markdown",
   "metadata": {},
   "source": [
    "## Exploring the BMI Variable"
   ]
  },
  {
   "cell_type": "code",
   "execution_count": 17,
   "metadata": {},
   "outputs": [
    {
     "data": {
      "text/plain": [
       "count    1337.000000\n",
       "mean       30.663452\n",
       "std         6.100468\n",
       "min        15.960000\n",
       "25%        26.290000\n",
       "50%        30.400000\n",
       "75%        34.700000\n",
       "max        53.130000\n",
       "Name: bmi, dtype: float64"
      ]
     },
     "execution_count": 17,
     "metadata": {},
     "output_type": "execute_result"
    }
   ],
   "source": [
    "insurance_df_no_dupl.bmi.describe()"
   ]
  },
  {
   "attachments": {},
   "cell_type": "markdown",
   "metadata": {},
   "source": [
    "Is there a correlation with \"charges\" feature?"
   ]
  },
  {
   "cell_type": "code",
   "execution_count": 18,
   "metadata": {},
   "outputs": [
    {
     "data": {
      "image/png": "[encoded data removed]",
      "text/plain": [
       "<Figure size 1080x360 with 1 Axes>"
      ]
     },
     "metadata": {
      "needs_background": "light"
     },
     "output_type": "display_data"
    }
   ],
   "source": [
    "sns.scatterplot(data=insurance_df_no_dupl, x='bmi', y='charges', hue='sex')\n",
    "plt.legend(bbox_to_anchor=(1.02, 1), loc='upper left', borderaxespad=0);"
   ]
  },
  {
   "attachments": {},
   "cell_type": "markdown",
   "metadata": {},
   "source": [
    "It does not seem to be a strong relationship, but it is positive for sure; moreover there are not two well defined clusters based on sex."
   ]
  },
  {
   "attachments": {},
   "cell_type": "markdown",
   "metadata": {},
   "source": [
    "Checking the distribution of the variable BMI."
   ]
  },
  {
   "cell_type": "code",
   "execution_count": 19,
   "metadata": {},
   "outputs": [
    {
     "data": {
      "image/png": "[encoded data removed]",
      "text/plain": [
       "<Figure size 1080x360 with 1 Axes>"
      ]
     },
     "metadata": {
      "needs_background": "light"
     },
     "output_type": "display_data"
    }
   ],
   "source": [
    "sns.histplot(data=insurance_df_no_dupl, x='bmi', bins=50, kde=True);"
   ]
  },
  {
   "attachments": {},
   "cell_type": "markdown",
   "metadata": {},
   "source": [
    "The \"bmi\" variable seems to be normally distributed."
   ]
  },
  {
   "attachments": {},
   "cell_type": "markdown",
   "metadata": {},
   "source": [
    "## Exploring the Children Variable"
   ]
  },
  {
   "cell_type": "code",
   "execution_count": 20,
   "metadata": {},
   "outputs": [
    {
     "data": {
      "text/plain": [
       "count    1337.000000\n",
       "mean        1.095737\n",
       "std         1.205571\n",
       "min         0.000000\n",
       "25%         0.000000\n",
       "50%         1.000000\n",
       "75%         2.000000\n",
       "max         5.000000\n",
       "Name: children, dtype: float64"
      ]
     },
     "execution_count": 20,
     "metadata": {},
     "output_type": "execute_result"
    }
   ],
   "source": [
    "insurance_df_no_dupl.children.describe()"
   ]
  },
  {
   "cell_type": "code",
   "execution_count": 21,
   "metadata": {},
   "outputs": [
    {
     "data": {
      "image/png": "[encoded data removed]",
      "text/plain": [
       "<Figure size 1080x360 with 1 Axes>"
      ]
     },
     "metadata": {
      "needs_background": "light"
     },
     "output_type": "display_data"
    }
   ],
   "source": [
    "sns.boxplot(data=insurance_df_no_dupl, x='children', y='charges');"
   ]
  },
  {
   "cell_type": "code",
   "execution_count": 22,
   "metadata": {},
   "outputs": [
    {
     "data": {
      "text/plain": [
       "children\n",
       "0    12384.695344\n",
       "1    12731.171832\n",
       "2    15073.563734\n",
       "3    15355.318367\n",
       "4    13850.656311\n",
       "5     8786.035247\n",
       "Name: charges, dtype: float64"
      ]
     },
     "execution_count": 22,
     "metadata": {},
     "output_type": "execute_result"
    }
   ],
   "source": [
    "insurance_df_no_dupl.groupby('children')['charges'].mean()"
   ]
  },
  {
   "attachments": {},
   "cell_type": "markdown",
   "metadata": {},
   "source": [
    "On average, who has 2 or 3 children pays spends more money in charges."
   ]
  },
  {
   "attachments": {},
   "cell_type": "markdown",
   "metadata": {},
   "source": [
    "## Exploring the Smoking Variable"
   ]
  },
  {
   "cell_type": "code",
   "execution_count": 23,
   "metadata": {},
   "outputs": [
    {
     "data": {
      "text/plain": [
       "no     1063\n",
       "yes     274\n",
       "Name: smoker, dtype: int64"
      ]
     },
     "execution_count": 23,
     "metadata": {},
     "output_type": "execute_result"
    }
   ],
   "source": [
    "insurance_df_no_dupl.smoker.value_counts()"
   ]
  },
  {
   "attachments": {},
   "cell_type": "markdown",
   "metadata": {},
   "source": [
    "There are not many smokers in the dataset."
   ]
  },
  {
   "cell_type": "code",
   "execution_count": 24,
   "metadata": {},
   "outputs": [
    {
     "data": {
      "image/png": "[encoded data removed]",
      "text/plain": [
       "<Figure size 1080x360 with 1 Axes>"
      ]
     },
     "metadata": {
      "needs_background": "light"
     },
     "output_type": "display_data"
    }
   ],
   "source": [
    "sns.boxplot(data=insurance_df_no_dupl, x='smoker', y='charges');"
   ]
  },
  {
   "attachments": {},
   "cell_type": "markdown",
   "metadata": {},
   "source": [
    "In general, smokers pay much more in insurance charges than no-smokers."
   ]
  },
  {
   "cell_type": "code",
   "execution_count": 25,
   "metadata": {},
   "outputs": [
    {
     "data": {
      "text/plain": [
       "count      274.000000\n",
       "mean     32050.231832\n",
       "std      11541.547176\n",
       "min      12829.455100\n",
       "25%      20826.244213\n",
       "50%      34456.348450\n",
       "75%      41019.207275\n",
       "max      63770.428010\n",
       "Name: charges, dtype: float64"
      ]
     },
     "execution_count": 25,
     "metadata": {},
     "output_type": "execute_result"
    }
   ],
   "source": [
    "insurance_df_no_dupl[insurance_df_no_dupl.smoker=='yes'].charges.describe()"
   ]
  },
  {
   "cell_type": "code",
   "execution_count": 26,
   "metadata": {},
   "outputs": [
    {
     "data": {
      "text/plain": [
       "count     1063.000000\n",
       "mean      8440.660307\n",
       "std       5992.973800\n",
       "min       1121.873900\n",
       "25%       3988.883500\n",
       "50%       7345.726600\n",
       "75%      11363.019100\n",
       "max      36910.608030\n",
       "Name: charges, dtype: float64"
      ]
     },
     "execution_count": 26,
     "metadata": {},
     "output_type": "execute_result"
    }
   ],
   "source": [
    "insurance_df_no_dupl[insurance_df_no_dupl.smoker=='no'].charges.describe()"
   ]
  },
  {
   "attachments": {},
   "cell_type": "markdown",
   "metadata": {},
   "source": [
    "What is, on average, the amount paid by smokers and non-smokers?"
   ]
  },
  {
   "cell_type": "code",
   "execution_count": 27,
   "metadata": {},
   "outputs": [
    {
     "data": {
      "text/plain": [
       "smoker\n",
       "no      8440.660307\n",
       "yes    32050.231832\n",
       "Name: charges, dtype: float64"
      ]
     },
     "execution_count": 27,
     "metadata": {},
     "output_type": "execute_result"
    }
   ],
   "source": [
    "insurance_df_no_dupl.groupby('smoker')['charges'].mean()"
   ]
  },
  {
   "attachments": {},
   "cell_type": "markdown",
   "metadata": {},
   "source": [
    "## Exploring the Region Variable"
   ]
  },
  {
   "cell_type": "code",
   "execution_count": 28,
   "metadata": {},
   "outputs": [
    {
     "data": {
      "text/plain": [
       "southeast    364\n",
       "southwest    325\n",
       "northwest    324\n",
       "northeast    324\n",
       "Name: region, dtype: int64"
      ]
     },
     "execution_count": 28,
     "metadata": {},
     "output_type": "execute_result"
    }
   ],
   "source": [
    "insurance_df_no_dupl.region.value_counts()"
   ]
  },
  {
   "attachments": {},
   "cell_type": "markdown",
   "metadata": {},
   "source": [
    "Regions are almost perfectly balanced, only the southeast region appears more times."
   ]
  },
  {
   "cell_type": "code",
   "execution_count": 29,
   "metadata": {},
   "outputs": [
    {
     "data": {
      "image/png": "[encoded data removed]",
      "text/plain": [
       "<Figure size 1080x360 with 1 Axes>"
      ]
     },
     "metadata": {
      "needs_background": "light"
     },
     "output_type": "display_data"
    }
   ],
   "source": [
    "sns.boxplot(data=insurance_df_no_dupl, x='region', y='charges');"
   ]
  },
  {
   "attachments": {},
   "cell_type": "markdown",
   "metadata": {},
   "source": [
    "It does not seem to be a large difference between them. Only the southeast region has more outliers."
   ]
  },
  {
   "attachments": {},
   "cell_type": "markdown",
   "metadata": {},
   "source": [
    "# Feature Engineering  \n",
    "\n",
    "In this section are performed all the necessary steps to transform variables that will be used in the machine learning model."
   ]
  },
  {
   "attachments": {},
   "cell_type": "markdown",
   "metadata": {},
   "source": [
    "## Defining Inputs and Target"
   ]
  },
  {
   "cell_type": "code",
   "execution_count": 30,
   "metadata": {},
   "outputs": [],
   "source": [
    "input_df = insurance_df_no_dupl.drop(columns='charges')\n",
    "target_df = insurance_df_no_dupl.charges"
   ]
  },
  {
   "attachments": {},
   "cell_type": "markdown",
   "metadata": {},
   "source": [
    "Showing the results"
   ]
  },
  {
   "cell_type": "code",
   "execution_count": 31,
   "metadata": {},
   "outputs": [
    {
     "data": {
      "text/html": [
       "<div>\n",
       "<style scoped>\n",
       "    .dataframe tbody tr th:only-of-type {\n",
       "        vertical-align: middle;\n",
       "    }\n",
       "\n",
       "    .dataframe tbody tr th {\n",
       "        vertical-align: top;\n",
       "    }\n",
       "\n",
       "    .dataframe thead th {\n",
       "        text-align: right;\n",
       "    }\n",
       "</style>\n",
       "<table border=\"1\" class=\"dataframe\">\n",
       "  <thead>\n",
       "    <tr style=\"text-align: right;\">\n",
       "      <th></th>\n",
       "      <th>age</th>\n",
       "      <th>sex</th>\n",
       "      <th>bmi</th>\n",
       "      <th>children</th>\n",
       "      <th>smoker</th>\n",
       "      <th>region</th>\n",
       "    </tr>\n",
       "  </thead>\n",
       "  <tbody>\n",
       "    <tr>\n",
       "      <th>0</th>\n",
       "      <td>19</td>\n",
       "      <td>female</td>\n",
       "      <td>27.900</td>\n",
       "      <td>0</td>\n",
       "      <td>yes</td>\n",
       "      <td>southwest</td>\n",
       "    </tr>\n",
       "    <tr>\n",
       "      <th>1</th>\n",
       "      <td>18</td>\n",
       "      <td>male</td>\n",
       "      <td>33.770</td>\n",
       "      <td>1</td>\n",
       "      <td>no</td>\n",
       "      <td>southeast</td>\n",
       "    </tr>\n",
       "    <tr>\n",
       "      <th>2</th>\n",
       "      <td>28</td>\n",
       "      <td>male</td>\n",
       "      <td>33.000</td>\n",
       "      <td>3</td>\n",
       "      <td>no</td>\n",
       "      <td>southeast</td>\n",
       "    </tr>\n",
       "    <tr>\n",
       "      <th>3</th>\n",
       "      <td>33</td>\n",
       "      <td>male</td>\n",
       "      <td>22.705</td>\n",
       "      <td>0</td>\n",
       "      <td>no</td>\n",
       "      <td>northwest</td>\n",
       "    </tr>\n",
       "    <tr>\n",
       "      <th>4</th>\n",
       "      <td>32</td>\n",
       "      <td>male</td>\n",
       "      <td>28.880</td>\n",
       "      <td>0</td>\n",
       "      <td>no</td>\n",
       "      <td>northwest</td>\n",
       "    </tr>\n",
       "    <tr>\n",
       "      <th>...</th>\n",
       "      <td>...</td>\n",
       "      <td>...</td>\n",
       "      <td>...</td>\n",
       "      <td>...</td>\n",
       "      <td>...</td>\n",
       "      <td>...</td>\n",
       "    </tr>\n",
       "    <tr>\n",
       "      <th>1333</th>\n",
       "      <td>50</td>\n",
       "      <td>male</td>\n",
       "      <td>30.970</td>\n",
       "      <td>3</td>\n",
       "      <td>no</td>\n",
       "      <td>northwest</td>\n",
       "    </tr>\n",
       "    <tr>\n",
       "      <th>1334</th>\n",
       "      <td>18</td>\n",
       "      <td>female</td>\n",
       "      <td>31.920</td>\n",
       "      <td>0</td>\n",
       "      <td>no</td>\n",
       "      <td>northeast</td>\n",
       "    </tr>\n",
       "    <tr>\n",
       "      <th>1335</th>\n",
       "      <td>18</td>\n",
       "      <td>female</td>\n",
       "      <td>36.850</td>\n",
       "      <td>0</td>\n",
       "      <td>no</td>\n",
       "      <td>southeast</td>\n",
       "    </tr>\n",
       "    <tr>\n",
       "      <th>1336</th>\n",
       "      <td>21</td>\n",
       "      <td>female</td>\n",
       "      <td>25.800</td>\n",
       "      <td>0</td>\n",
       "      <td>no</td>\n",
       "      <td>southwest</td>\n",
       "    </tr>\n",
       "    <tr>\n",
       "      <th>1337</th>\n",
       "      <td>61</td>\n",
       "      <td>female</td>\n",
       "      <td>29.070</td>\n",
       "      <td>0</td>\n",
       "      <td>yes</td>\n",
       "      <td>northwest</td>\n",
       "    </tr>\n",
       "  </tbody>\n",
       "</table>\n",
       "<p>1337 rows × 6 columns</p>\n",
       "</div>"
      ],
      "text/plain": [
       "      age     sex     bmi  children smoker     region\n",
       "0      19  female  27.900         0    yes  southwest\n",
       "1      18    male  33.770         1     no  southeast\n",
       "2      28    male  33.000         3     no  southeast\n",
       "3      33    male  22.705         0     no  northwest\n",
       "4      32    male  28.880         0     no  northwest\n",
       "...   ...     ...     ...       ...    ...        ...\n",
       "1333   50    male  30.970         3     no  northwest\n",
       "1334   18  female  31.920         0     no  northeast\n",
       "1335   18  female  36.850         0     no  southeast\n",
       "1336   21  female  25.800         0     no  southwest\n",
       "1337   61  female  29.070         0    yes  northwest\n",
       "\n",
       "[1337 rows x 6 columns]"
      ]
     },
     "execution_count": 31,
     "metadata": {},
     "output_type": "execute_result"
    }
   ],
   "source": [
    "input_df"
   ]
  },
  {
   "cell_type": "code",
   "execution_count": 32,
   "metadata": {},
   "outputs": [
    {
     "data": {
      "text/plain": [
       "0       16884.92400\n",
       "1        1725.55230\n",
       "2        4449.46200\n",
       "3       21984.47061\n",
       "4        3866.85520\n",
       "           ...     \n",
       "1333    10600.54830\n",
       "1334     2205.98080\n",
       "1335     1629.83350\n",
       "1336     2007.94500\n",
       "1337    29141.36030\n",
       "Name: charges, Length: 1337, dtype: float64"
      ]
     },
     "execution_count": 32,
     "metadata": {},
     "output_type": "execute_result"
    }
   ],
   "source": [
    "target_df"
   ]
  },
  {
   "attachments": {},
   "cell_type": "markdown",
   "metadata": {},
   "source": [
    "## Creating a Variable to Cluster the BMI  \n",
    "\n",
    "It will be added a new feature to cluster observations on their BMI values.  \n",
    "These are the different ranges:  \n",
    "- If BMI is less than 18.5, it falls within the underweight range.  \n",
    "- If BMI is 18.5 to 24.9, it falls within the normal or Healthy Weight range.  \n",
    "- If BMI is 25.0 to 29.9, it falls within the overweight range.  \n",
    "- If BMI is 30.0 or higher, it falls within the obese range.  "
   ]
  },
  {
   "cell_type": "code",
   "execution_count": 33,
   "metadata": {},
   "outputs": [],
   "source": [
    "def bmi_estimator(column):\n",
    "    if column < 18.5:\n",
    "        return 'underweight'\n",
    "    elif (column >= 18.5) and (column<=24.9):\n",
    "        return 'healthy weight'\n",
    "    elif (column>=25) and (column<=29.9):\n",
    "        return 'overweight'\n",
    "    else:\n",
    "        return 'obese'"
   ]
  },
  {
   "cell_type": "code",
   "execution_count": 34,
   "metadata": {},
   "outputs": [
    {
     "data": {
      "text/html": [
       "<div>\n",
       "<style scoped>\n",
       "    .dataframe tbody tr th:only-of-type {\n",
       "        vertical-align: middle;\n",
       "    }\n",
       "\n",
       "    .dataframe tbody tr th {\n",
       "        vertical-align: top;\n",
       "    }\n",
       "\n",
       "    .dataframe thead th {\n",
       "        text-align: right;\n",
       "    }\n",
       "</style>\n",
       "<table border=\"1\" class=\"dataframe\">\n",
       "  <thead>\n",
       "    <tr style=\"text-align: right;\">\n",
       "      <th></th>\n",
       "      <th>age</th>\n",
       "      <th>sex</th>\n",
       "      <th>bmi</th>\n",
       "      <th>children</th>\n",
       "      <th>smoker</th>\n",
       "      <th>region</th>\n",
       "      <th>bmi_class</th>\n",
       "    </tr>\n",
       "  </thead>\n",
       "  <tbody>\n",
       "    <tr>\n",
       "      <th>0</th>\n",
       "      <td>19</td>\n",
       "      <td>female</td>\n",
       "      <td>27.900</td>\n",
       "      <td>0</td>\n",
       "      <td>yes</td>\n",
       "      <td>southwest</td>\n",
       "      <td>overweight</td>\n",
       "    </tr>\n",
       "    <tr>\n",
       "      <th>1</th>\n",
       "      <td>18</td>\n",
       "      <td>male</td>\n",
       "      <td>33.770</td>\n",
       "      <td>1</td>\n",
       "      <td>no</td>\n",
       "      <td>southeast</td>\n",
       "      <td>obese</td>\n",
       "    </tr>\n",
       "    <tr>\n",
       "      <th>2</th>\n",
       "      <td>28</td>\n",
       "      <td>male</td>\n",
       "      <td>33.000</td>\n",
       "      <td>3</td>\n",
       "      <td>no</td>\n",
       "      <td>southeast</td>\n",
       "      <td>obese</td>\n",
       "    </tr>\n",
       "    <tr>\n",
       "      <th>3</th>\n",
       "      <td>33</td>\n",
       "      <td>male</td>\n",
       "      <td>22.705</td>\n",
       "      <td>0</td>\n",
       "      <td>no</td>\n",
       "      <td>northwest</td>\n",
       "      <td>healthy weight</td>\n",
       "    </tr>\n",
       "    <tr>\n",
       "      <th>4</th>\n",
       "      <td>32</td>\n",
       "      <td>male</td>\n",
       "      <td>28.880</td>\n",
       "      <td>0</td>\n",
       "      <td>no</td>\n",
       "      <td>northwest</td>\n",
       "      <td>overweight</td>\n",
       "    </tr>\n",
       "    <tr>\n",
       "      <th>...</th>\n",
       "      <td>...</td>\n",
       "      <td>...</td>\n",
       "      <td>...</td>\n",
       "      <td>...</td>\n",
       "      <td>...</td>\n",
       "      <td>...</td>\n",
       "      <td>...</td>\n",
       "    </tr>\n",
       "    <tr>\n",
       "      <th>1333</th>\n",
       "      <td>50</td>\n",
       "      <td>male</td>\n",
       "      <td>30.970</td>\n",
       "      <td>3</td>\n",
       "      <td>no</td>\n",
       "      <td>northwest</td>\n",
       "      <td>obese</td>\n",
       "    </tr>\n",
       "    <tr>\n",
       "      <th>1334</th>\n",
       "      <td>18</td>\n",
       "      <td>female</td>\n",
       "      <td>31.920</td>\n",
       "      <td>0</td>\n",
       "      <td>no</td>\n",
       "      <td>northeast</td>\n",
       "      <td>obese</td>\n",
       "    </tr>\n",
       "    <tr>\n",
       "      <th>1335</th>\n",
       "      <td>18</td>\n",
       "      <td>female</td>\n",
       "      <td>36.850</td>\n",
       "      <td>0</td>\n",
       "      <td>no</td>\n",
       "      <td>southeast</td>\n",
       "      <td>obese</td>\n",
       "    </tr>\n",
       "    <tr>\n",
       "      <th>1336</th>\n",
       "      <td>21</td>\n",
       "      <td>female</td>\n",
       "      <td>25.800</td>\n",
       "      <td>0</td>\n",
       "      <td>no</td>\n",
       "      <td>southwest</td>\n",
       "      <td>overweight</td>\n",
       "    </tr>\n",
       "    <tr>\n",
       "      <th>1337</th>\n",
       "      <td>61</td>\n",
       "      <td>female</td>\n",
       "      <td>29.070</td>\n",
       "      <td>0</td>\n",
       "      <td>yes</td>\n",
       "      <td>northwest</td>\n",
       "      <td>overweight</td>\n",
       "    </tr>\n",
       "  </tbody>\n",
       "</table>\n",
       "<p>1337 rows × 7 columns</p>\n",
       "</div>"
      ],
      "text/plain": [
       "      age     sex     bmi  children smoker     region       bmi_class\n",
       "0      19  female  27.900         0    yes  southwest      overweight\n",
       "1      18    male  33.770         1     no  southeast           obese\n",
       "2      28    male  33.000         3     no  southeast           obese\n",
       "3      33    male  22.705         0     no  northwest  healthy weight\n",
       "4      32    male  28.880         0     no  northwest      overweight\n",
       "...   ...     ...     ...       ...    ...        ...             ...\n",
       "1333   50    male  30.970         3     no  northwest           obese\n",
       "1334   18  female  31.920         0     no  northeast           obese\n",
       "1335   18  female  36.850         0     no  southeast           obese\n",
       "1336   21  female  25.800         0     no  southwest      overweight\n",
       "1337   61  female  29.070         0    yes  northwest      overweight\n",
       "\n",
       "[1337 rows x 7 columns]"
      ]
     },
     "execution_count": 34,
     "metadata": {},
     "output_type": "execute_result"
    }
   ],
   "source": [
    "input_df['bmi_class']=input_df.bmi.map(bmi_estimator)\n",
    "input_df"
   ]
  },
  {
   "attachments": {},
   "cell_type": "markdown",
   "metadata": {},
   "source": [
    "## Encoding Sex and Smoking Variables  \n"
   ]
  },
  {
   "cell_type": "code",
   "execution_count": 35,
   "metadata": {},
   "outputs": [],
   "source": [
    "sex_dict = {'male':0, 'female':1}\n",
    "smoker_dict = {'no':0, 'yes':1}\n",
    "\n",
    "input_df['sex'] = input_df.sex.map(sex_dict)\n",
    "input_df['smoker'] = input_df.smoker.map(smoker_dict)"
   ]
  },
  {
   "attachments": {},
   "cell_type": "markdown",
   "metadata": {},
   "source": [
    "## Encoding the Region Variable  \n",
    "\n",
    "It is used the one-hot encoding procedure."
   ]
  },
  {
   "cell_type": "code",
   "execution_count": 36,
   "metadata": {},
   "outputs": [],
   "source": [
    "columns_to_encode = ['region', 'bmi_class']"
   ]
  },
  {
   "cell_type": "code",
   "execution_count": 37,
   "metadata": {},
   "outputs": [],
   "source": [
    "from sklearn.preprocessing import OneHotEncoder\n",
    "\n",
    "encoder = OneHotEncoder(sparse=False, handle_unknown='ignore').fit(input_df[columns_to_encode])\n",
    "\n",
    "encoded_cols = list(encoder.get_feature_names_out(columns_to_encode))\n",
    "\n",
    "input_df[encoded_cols] = encoder.transform(input_df[columns_to_encode])"
   ]
  },
  {
   "cell_type": "code",
   "execution_count": 38,
   "metadata": {},
   "outputs": [
    {
     "data": {
      "text/html": [
       "<div>\n",
       "<style scoped>\n",
       "    .dataframe tbody tr th:only-of-type {\n",
       "        vertical-align: middle;\n",
       "    }\n",
       "\n",
       "    .dataframe tbody tr th {\n",
       "        vertical-align: top;\n",
       "    }\n",
       "\n",
       "    .dataframe thead th {\n",
       "        text-align: right;\n",
       "    }\n",
       "</style>\n",
       "<table border=\"1\" class=\"dataframe\">\n",
       "  <thead>\n",
       "    <tr style=\"text-align: right;\">\n",
       "      <th></th>\n",
       "      <th>age</th>\n",
       "      <th>sex</th>\n",
       "      <th>bmi</th>\n",
       "      <th>children</th>\n",
       "      <th>smoker</th>\n",
       "      <th>bmi_class</th>\n",
       "      <th>region_northeast</th>\n",
       "      <th>region_northwest</th>\n",
       "      <th>region_southeast</th>\n",
       "      <th>region_southwest</th>\n",
       "      <th>bmi_class_healthy weight</th>\n",
       "      <th>bmi_class_obese</th>\n",
       "      <th>bmi_class_overweight</th>\n",
       "      <th>bmi_class_underweight</th>\n",
       "    </tr>\n",
       "  </thead>\n",
       "  <tbody>\n",
       "    <tr>\n",
       "      <th>0</th>\n",
       "      <td>19</td>\n",
       "      <td>1</td>\n",
       "      <td>27.900</td>\n",
       "      <td>0</td>\n",
       "      <td>1</td>\n",
       "      <td>overweight</td>\n",
       "      <td>0.0</td>\n",
       "      <td>0.0</td>\n",
       "      <td>0.0</td>\n",
       "      <td>1.0</td>\n",
       "      <td>0.0</td>\n",
       "      <td>0.0</td>\n",
       "      <td>1.0</td>\n",
       "      <td>0.0</td>\n",
       "    </tr>\n",
       "    <tr>\n",
       "      <th>1</th>\n",
       "      <td>18</td>\n",
       "      <td>0</td>\n",
       "      <td>33.770</td>\n",
       "      <td>1</td>\n",
       "      <td>0</td>\n",
       "      <td>obese</td>\n",
       "      <td>0.0</td>\n",
       "      <td>0.0</td>\n",
       "      <td>1.0</td>\n",
       "      <td>0.0</td>\n",
       "      <td>0.0</td>\n",
       "      <td>1.0</td>\n",
       "      <td>0.0</td>\n",
       "      <td>0.0</td>\n",
       "    </tr>\n",
       "    <tr>\n",
       "      <th>2</th>\n",
       "      <td>28</td>\n",
       "      <td>0</td>\n",
       "      <td>33.000</td>\n",
       "      <td>3</td>\n",
       "      <td>0</td>\n",
       "      <td>obese</td>\n",
       "      <td>0.0</td>\n",
       "      <td>0.0</td>\n",
       "      <td>1.0</td>\n",
       "      <td>0.0</td>\n",
       "      <td>0.0</td>\n",
       "      <td>1.0</td>\n",
       "      <td>0.0</td>\n",
       "      <td>0.0</td>\n",
       "    </tr>\n",
       "    <tr>\n",
       "      <th>3</th>\n",
       "      <td>33</td>\n",
       "      <td>0</td>\n",
       "      <td>22.705</td>\n",
       "      <td>0</td>\n",
       "      <td>0</td>\n",
       "      <td>healthy weight</td>\n",
       "      <td>0.0</td>\n",
       "      <td>1.0</td>\n",
       "      <td>0.0</td>\n",
       "      <td>0.0</td>\n",
       "      <td>1.0</td>\n",
       "      <td>0.0</td>\n",
       "      <td>0.0</td>\n",
       "      <td>0.0</td>\n",
       "    </tr>\n",
       "    <tr>\n",
       "      <th>4</th>\n",
       "      <td>32</td>\n",
       "      <td>0</td>\n",
       "      <td>28.880</td>\n",
       "      <td>0</td>\n",
       "      <td>0</td>\n",
       "      <td>overweight</td>\n",
       "      <td>0.0</td>\n",
       "      <td>1.0</td>\n",
       "      <td>0.0</td>\n",
       "      <td>0.0</td>\n",
       "      <td>0.0</td>\n",
       "      <td>0.0</td>\n",
       "      <td>1.0</td>\n",
       "      <td>0.0</td>\n",
       "    </tr>\n",
       "    <tr>\n",
       "      <th>...</th>\n",
       "      <td>...</td>\n",
       "      <td>...</td>\n",
       "      <td>...</td>\n",
       "      <td>...</td>\n",
       "      <td>...</td>\n",
       "      <td>...</td>\n",
       "      <td>...</td>\n",
       "      <td>...</td>\n",
       "      <td>...</td>\n",
       "      <td>...</td>\n",
       "      <td>...</td>\n",
       "      <td>...</td>\n",
       "      <td>...</td>\n",
       "      <td>...</td>\n",
       "    </tr>\n",
       "    <tr>\n",
       "      <th>1333</th>\n",
       "      <td>50</td>\n",
       "      <td>0</td>\n",
       "      <td>30.970</td>\n",
       "      <td>3</td>\n",
       "      <td>0</td>\n",
       "      <td>obese</td>\n",
       "      <td>0.0</td>\n",
       "      <td>1.0</td>\n",
       "      <td>0.0</td>\n",
       "      <td>0.0</td>\n",
       "      <td>0.0</td>\n",
       "      <td>1.0</td>\n",
       "      <td>0.0</td>\n",
       "      <td>0.0</td>\n",
       "    </tr>\n",
       "    <tr>\n",
       "      <th>1334</th>\n",
       "      <td>18</td>\n",
       "      <td>1</td>\n",
       "      <td>31.920</td>\n",
       "      <td>0</td>\n",
       "      <td>0</td>\n",
       "      <td>obese</td>\n",
       "      <td>1.0</td>\n",
       "      <td>0.0</td>\n",
       "      <td>0.0</td>\n",
       "      <td>0.0</td>\n",
       "      <td>0.0</td>\n",
       "      <td>1.0</td>\n",
       "      <td>0.0</td>\n",
       "      <td>0.0</td>\n",
       "    </tr>\n",
       "    <tr>\n",
       "      <th>1335</th>\n",
       "      <td>18</td>\n",
       "      <td>1</td>\n",
       "      <td>36.850</td>\n",
       "      <td>0</td>\n",
       "      <td>0</td>\n",
       "      <td>obese</td>\n",
       "      <td>0.0</td>\n",
       "      <td>0.0</td>\n",
       "      <td>1.0</td>\n",
       "      <td>0.0</td>\n",
       "      <td>0.0</td>\n",
       "      <td>1.0</td>\n",
       "      <td>0.0</td>\n",
       "      <td>0.0</td>\n",
       "    </tr>\n",
       "    <tr>\n",
       "      <th>1336</th>\n",
       "      <td>21</td>\n",
       "      <td>1</td>\n",
       "      <td>25.800</td>\n",
       "      <td>0</td>\n",
       "      <td>0</td>\n",
       "      <td>overweight</td>\n",
       "      <td>0.0</td>\n",
       "      <td>0.0</td>\n",
       "      <td>0.0</td>\n",
       "      <td>1.0</td>\n",
       "      <td>0.0</td>\n",
       "      <td>0.0</td>\n",
       "      <td>1.0</td>\n",
       "      <td>0.0</td>\n",
       "    </tr>\n",
       "    <tr>\n",
       "      <th>1337</th>\n",
       "      <td>61</td>\n",
       "      <td>1</td>\n",
       "      <td>29.070</td>\n",
       "      <td>0</td>\n",
       "      <td>1</td>\n",
       "      <td>overweight</td>\n",
       "      <td>0.0</td>\n",
       "      <td>1.0</td>\n",
       "      <td>0.0</td>\n",
       "      <td>0.0</td>\n",
       "      <td>0.0</td>\n",
       "      <td>0.0</td>\n",
       "      <td>1.0</td>\n",
       "      <td>0.0</td>\n",
       "    </tr>\n",
       "  </tbody>\n",
       "</table>\n",
       "<p>1337 rows × 14 columns</p>\n",
       "</div>"
      ],
      "text/plain": [
       "      age  sex     bmi  children  smoker       bmi_class  region_northeast  \\\n",
       "0      19    1  27.900         0       1      overweight               0.0   \n",
       "1      18    0  33.770         1       0           obese               0.0   \n",
       "2      28    0  33.000         3       0           obese               0.0   \n",
       "3      33    0  22.705         0       0  healthy weight               0.0   \n",
       "4      32    0  28.880         0       0      overweight               0.0   \n",
       "...   ...  ...     ...       ...     ...             ...               ...   \n",
       "1333   50    0  30.970         3       0           obese               0.0   \n",
       "1334   18    1  31.920         0       0           obese               1.0   \n",
       "1335   18    1  36.850         0       0           obese               0.0   \n",
       "1336   21    1  25.800         0       0      overweight               0.0   \n",
       "1337   61    1  29.070         0       1      overweight               0.0   \n",
       "\n",
       "      region_northwest  region_southeast  region_southwest  \\\n",
       "0                  0.0               0.0               1.0   \n",
       "1                  0.0               1.0               0.0   \n",
       "2                  0.0               1.0               0.0   \n",
       "3                  1.0               0.0               0.0   \n",
       "4                  1.0               0.0               0.0   \n",
       "...                ...               ...               ...   \n",
       "1333               1.0               0.0               0.0   \n",
       "1334               0.0               0.0               0.0   \n",
       "1335               0.0               1.0               0.0   \n",
       "1336               0.0               0.0               1.0   \n",
       "1337               1.0               0.0               0.0   \n",
       "\n",
       "      bmi_class_healthy weight  bmi_class_obese  bmi_class_overweight  \\\n",
       "0                          0.0              0.0                   1.0   \n",
       "1                          0.0              1.0                   0.0   \n",
       "2                          0.0              1.0                   0.0   \n",
       "3                          1.0              0.0                   0.0   \n",
       "4                          0.0              0.0                   1.0   \n",
       "...                        ...              ...                   ...   \n",
       "1333                       0.0              1.0                   0.0   \n",
       "1334                       0.0              1.0                   0.0   \n",
       "1335                       0.0              1.0                   0.0   \n",
       "1336                       0.0              0.0                   1.0   \n",
       "1337                       0.0              0.0                   1.0   \n",
       "\n",
       "      bmi_class_underweight  \n",
       "0                       0.0  \n",
       "1                       0.0  \n",
       "2                       0.0  \n",
       "3                       0.0  \n",
       "4                       0.0  \n",
       "...                     ...  \n",
       "1333                    0.0  \n",
       "1334                    0.0  \n",
       "1335                    0.0  \n",
       "1336                    0.0  \n",
       "1337                    0.0  \n",
       "\n",
       "[1337 rows x 14 columns]"
      ]
     },
     "execution_count": 38,
     "metadata": {},
     "output_type": "execute_result"
    }
   ],
   "source": [
    "input_df = input_df.drop(columns='region')\n",
    "input_df"
   ]
  },
  {
   "attachments": {},
   "cell_type": "markdown",
   "metadata": {},
   "source": [
    "## Scaling Values  \n",
    "\n",
    "Values will be scaled by using MinMax Scaler."
   ]
  },
  {
   "cell_type": "code",
   "execution_count": 39,
   "metadata": {},
   "outputs": [
    {
     "data": {
      "text/html": [
       "<div>\n",
       "<style scoped>\n",
       "    .dataframe tbody tr th:only-of-type {\n",
       "        vertical-align: middle;\n",
       "    }\n",
       "\n",
       "    .dataframe tbody tr th {\n",
       "        vertical-align: top;\n",
       "    }\n",
       "\n",
       "    .dataframe thead th {\n",
       "        text-align: right;\n",
       "    }\n",
       "</style>\n",
       "<table border=\"1\" class=\"dataframe\">\n",
       "  <thead>\n",
       "    <tr style=\"text-align: right;\">\n",
       "      <th></th>\n",
       "      <th>age</th>\n",
       "      <th>bmi</th>\n",
       "      <th>children</th>\n",
       "    </tr>\n",
       "  </thead>\n",
       "  <tbody>\n",
       "    <tr>\n",
       "      <th>0</th>\n",
       "      <td>19</td>\n",
       "      <td>27.900</td>\n",
       "      <td>0</td>\n",
       "    </tr>\n",
       "    <tr>\n",
       "      <th>1</th>\n",
       "      <td>18</td>\n",
       "      <td>33.770</td>\n",
       "      <td>1</td>\n",
       "    </tr>\n",
       "    <tr>\n",
       "      <th>2</th>\n",
       "      <td>28</td>\n",
       "      <td>33.000</td>\n",
       "      <td>3</td>\n",
       "    </tr>\n",
       "    <tr>\n",
       "      <th>3</th>\n",
       "      <td>33</td>\n",
       "      <td>22.705</td>\n",
       "      <td>0</td>\n",
       "    </tr>\n",
       "    <tr>\n",
       "      <th>4</th>\n",
       "      <td>32</td>\n",
       "      <td>28.880</td>\n",
       "      <td>0</td>\n",
       "    </tr>\n",
       "  </tbody>\n",
       "</table>\n",
       "</div>"
      ],
      "text/plain": [
       "   age     bmi  children\n",
       "0   19  27.900         0\n",
       "1   18  33.770         1\n",
       "2   28  33.000         3\n",
       "3   33  22.705         0\n",
       "4   32  28.880         0"
      ]
     },
     "execution_count": 39,
     "metadata": {},
     "output_type": "execute_result"
    }
   ],
   "source": [
    "columns_to_scale = ['age','bmi','children']\n",
    "input_df[columns_to_scale].head()"
   ]
  },
  {
   "cell_type": "code",
   "execution_count": 40,
   "metadata": {},
   "outputs": [],
   "source": [
    "from sklearn.preprocessing import MinMaxScaler\n",
    "\n",
    "scaler = MinMaxScaler().fit(input_df[columns_to_scale])\n",
    "\n",
    "input_df[columns_to_scale] = scaler.transform(input_df[columns_to_scale])"
   ]
  },
  {
   "cell_type": "code",
   "execution_count": 41,
   "metadata": {},
   "outputs": [
    {
     "data": {
      "text/html": [
       "<div>\n",
       "<style scoped>\n",
       "    .dataframe tbody tr th:only-of-type {\n",
       "        vertical-align: middle;\n",
       "    }\n",
       "\n",
       "    .dataframe tbody tr th {\n",
       "        vertical-align: top;\n",
       "    }\n",
       "\n",
       "    .dataframe thead th {\n",
       "        text-align: right;\n",
       "    }\n",
       "</style>\n",
       "<table border=\"1\" class=\"dataframe\">\n",
       "  <thead>\n",
       "    <tr style=\"text-align: right;\">\n",
       "      <th></th>\n",
       "      <th>age</th>\n",
       "      <th>sex</th>\n",
       "      <th>bmi</th>\n",
       "      <th>children</th>\n",
       "      <th>smoker</th>\n",
       "      <th>region_northeast</th>\n",
       "      <th>region_northwest</th>\n",
       "      <th>region_southeast</th>\n",
       "      <th>region_southwest</th>\n",
       "      <th>bmi_class_healthy weight</th>\n",
       "      <th>bmi_class_obese</th>\n",
       "      <th>bmi_class_overweight</th>\n",
       "      <th>bmi_class_underweight</th>\n",
       "    </tr>\n",
       "  </thead>\n",
       "  <tbody>\n",
       "    <tr>\n",
       "      <th>0</th>\n",
       "      <td>0.021739</td>\n",
       "      <td>1</td>\n",
       "      <td>0.321227</td>\n",
       "      <td>0.0</td>\n",
       "      <td>1</td>\n",
       "      <td>0.0</td>\n",
       "      <td>0.0</td>\n",
       "      <td>0.0</td>\n",
       "      <td>1.0</td>\n",
       "      <td>0.0</td>\n",
       "      <td>0.0</td>\n",
       "      <td>1.0</td>\n",
       "      <td>0.0</td>\n",
       "    </tr>\n",
       "    <tr>\n",
       "      <th>1</th>\n",
       "      <td>0.000000</td>\n",
       "      <td>0</td>\n",
       "      <td>0.479150</td>\n",
       "      <td>0.2</td>\n",
       "      <td>0</td>\n",
       "      <td>0.0</td>\n",
       "      <td>0.0</td>\n",
       "      <td>1.0</td>\n",
       "      <td>0.0</td>\n",
       "      <td>0.0</td>\n",
       "      <td>1.0</td>\n",
       "      <td>0.0</td>\n",
       "      <td>0.0</td>\n",
       "    </tr>\n",
       "    <tr>\n",
       "      <th>2</th>\n",
       "      <td>0.217391</td>\n",
       "      <td>0</td>\n",
       "      <td>0.458434</td>\n",
       "      <td>0.6</td>\n",
       "      <td>0</td>\n",
       "      <td>0.0</td>\n",
       "      <td>0.0</td>\n",
       "      <td>1.0</td>\n",
       "      <td>0.0</td>\n",
       "      <td>0.0</td>\n",
       "      <td>1.0</td>\n",
       "      <td>0.0</td>\n",
       "      <td>0.0</td>\n",
       "    </tr>\n",
       "    <tr>\n",
       "      <th>3</th>\n",
       "      <td>0.326087</td>\n",
       "      <td>0</td>\n",
       "      <td>0.181464</td>\n",
       "      <td>0.0</td>\n",
       "      <td>0</td>\n",
       "      <td>0.0</td>\n",
       "      <td>1.0</td>\n",
       "      <td>0.0</td>\n",
       "      <td>0.0</td>\n",
       "      <td>1.0</td>\n",
       "      <td>0.0</td>\n",
       "      <td>0.0</td>\n",
       "      <td>0.0</td>\n",
       "    </tr>\n",
       "    <tr>\n",
       "      <th>4</th>\n",
       "      <td>0.304348</td>\n",
       "      <td>0</td>\n",
       "      <td>0.347592</td>\n",
       "      <td>0.0</td>\n",
       "      <td>0</td>\n",
       "      <td>0.0</td>\n",
       "      <td>1.0</td>\n",
       "      <td>0.0</td>\n",
       "      <td>0.0</td>\n",
       "      <td>0.0</td>\n",
       "      <td>0.0</td>\n",
       "      <td>1.0</td>\n",
       "      <td>0.0</td>\n",
       "    </tr>\n",
       "  </tbody>\n",
       "</table>\n",
       "</div>"
      ],
      "text/plain": [
       "        age  sex       bmi  children  smoker  region_northeast  \\\n",
       "0  0.021739    1  0.321227       0.0       1               0.0   \n",
       "1  0.000000    0  0.479150       0.2       0               0.0   \n",
       "2  0.217391    0  0.458434       0.6       0               0.0   \n",
       "3  0.326087    0  0.181464       0.0       0               0.0   \n",
       "4  0.304348    0  0.347592       0.0       0               0.0   \n",
       "\n",
       "   region_northwest  region_southeast  region_southwest  \\\n",
       "0               0.0               0.0               1.0   \n",
       "1               0.0               1.0               0.0   \n",
       "2               0.0               1.0               0.0   \n",
       "3               1.0               0.0               0.0   \n",
       "4               1.0               0.0               0.0   \n",
       "\n",
       "   bmi_class_healthy weight  bmi_class_obese  bmi_class_overweight  \\\n",
       "0                       0.0              0.0                   1.0   \n",
       "1                       0.0              1.0                   0.0   \n",
       "2                       0.0              1.0                   0.0   \n",
       "3                       1.0              0.0                   0.0   \n",
       "4                       0.0              0.0                   1.0   \n",
       "\n",
       "   bmi_class_underweight  \n",
       "0                    0.0  \n",
       "1                    0.0  \n",
       "2                    0.0  \n",
       "3                    0.0  \n",
       "4                    0.0  "
      ]
     },
     "execution_count": 41,
     "metadata": {},
     "output_type": "execute_result"
    }
   ],
   "source": [
    "input_df = input_df.drop(columns='bmi_class')\n",
    "input_df.head()"
   ]
  },
  {
   "cell_type": "code",
   "execution_count": 42,
   "metadata": {},
   "outputs": [
    {
     "data": {
      "text/html": [
       "<div>\n",
       "<style scoped>\n",
       "    .dataframe tbody tr th:only-of-type {\n",
       "        vertical-align: middle;\n",
       "    }\n",
       "\n",
       "    .dataframe tbody tr th {\n",
       "        vertical-align: top;\n",
       "    }\n",
       "\n",
       "    .dataframe thead th {\n",
       "        text-align: right;\n",
       "    }\n",
       "</style>\n",
       "<table border=\"1\" class=\"dataframe\">\n",
       "  <thead>\n",
       "    <tr style=\"text-align: right;\">\n",
       "      <th></th>\n",
       "      <th>age</th>\n",
       "      <th>sex</th>\n",
       "      <th>bmi</th>\n",
       "      <th>children</th>\n",
       "      <th>smoker</th>\n",
       "      <th>region_northeast</th>\n",
       "      <th>region_northwest</th>\n",
       "      <th>region_southeast</th>\n",
       "      <th>region_southwest</th>\n",
       "      <th>bmi_class_healthy weight</th>\n",
       "      <th>bmi_class_obese</th>\n",
       "      <th>bmi_class_overweight</th>\n",
       "      <th>bmi_class_underweight</th>\n",
       "    </tr>\n",
       "  </thead>\n",
       "  <tbody>\n",
       "    <tr>\n",
       "      <th>min</th>\n",
       "      <td>0.0</td>\n",
       "      <td>0.0</td>\n",
       "      <td>0.0</td>\n",
       "      <td>0.0</td>\n",
       "      <td>0.0</td>\n",
       "      <td>0.0</td>\n",
       "      <td>0.0</td>\n",
       "      <td>0.0</td>\n",
       "      <td>0.0</td>\n",
       "      <td>0.0</td>\n",
       "      <td>0.0</td>\n",
       "      <td>0.0</td>\n",
       "      <td>0.0</td>\n",
       "    </tr>\n",
       "    <tr>\n",
       "      <th>max</th>\n",
       "      <td>1.0</td>\n",
       "      <td>1.0</td>\n",
       "      <td>1.0</td>\n",
       "      <td>1.0</td>\n",
       "      <td>1.0</td>\n",
       "      <td>1.0</td>\n",
       "      <td>1.0</td>\n",
       "      <td>1.0</td>\n",
       "      <td>1.0</td>\n",
       "      <td>1.0</td>\n",
       "      <td>1.0</td>\n",
       "      <td>1.0</td>\n",
       "      <td>1.0</td>\n",
       "    </tr>\n",
       "  </tbody>\n",
       "</table>\n",
       "</div>"
      ],
      "text/plain": [
       "     age  sex  bmi  children  smoker  region_northeast  region_northwest  \\\n",
       "min  0.0  0.0  0.0       0.0     0.0               0.0               0.0   \n",
       "max  1.0  1.0  1.0       1.0     1.0               1.0               1.0   \n",
       "\n",
       "     region_southeast  region_southwest  bmi_class_healthy weight  \\\n",
       "min               0.0               0.0                       0.0   \n",
       "max               1.0               1.0                       1.0   \n",
       "\n",
       "     bmi_class_obese  bmi_class_overweight  bmi_class_underweight  \n",
       "min              0.0                   0.0                    0.0  \n",
       "max              1.0                   1.0                    1.0  "
      ]
     },
     "execution_count": 42,
     "metadata": {},
     "output_type": "execute_result"
    }
   ],
   "source": [
    "input_df.describe().loc[['min','max']]"
   ]
  },
  {
   "attachments": {},
   "cell_type": "markdown",
   "metadata": {},
   "source": [
    "All the variables range now between 0 and 1."
   ]
  },
  {
   "attachments": {},
   "cell_type": "markdown",
   "metadata": {},
   "source": [
    "## Splitting the Input Data Frame into a Train and Validation One"
   ]
  },
  {
   "cell_type": "code",
   "execution_count": 43,
   "metadata": {},
   "outputs": [],
   "source": [
    "from sklearn.model_selection import train_test_split\n",
    "\n",
    "X_train, X_val, y_train, y_val = train_test_split(input_df, target_df, test_size=0.2, random_state=42)"
   ]
  },
  {
   "attachments": {},
   "cell_type": "markdown",
   "metadata": {},
   "source": [
    "Showing the result."
   ]
  },
  {
   "cell_type": "code",
   "execution_count": 44,
   "metadata": {},
   "outputs": [
    {
     "data": {
      "text/html": [
       "<div>\n",
       "<style scoped>\n",
       "    .dataframe tbody tr th:only-of-type {\n",
       "        vertical-align: middle;\n",
       "    }\n",
       "\n",
       "    .dataframe tbody tr th {\n",
       "        vertical-align: top;\n",
       "    }\n",
       "\n",
       "    .dataframe thead th {\n",
       "        text-align: right;\n",
       "    }\n",
       "</style>\n",
       "<table border=\"1\" class=\"dataframe\">\n",
       "  <thead>\n",
       "    <tr style=\"text-align: right;\">\n",
       "      <th></th>\n",
       "      <th>age</th>\n",
       "      <th>sex</th>\n",
       "      <th>bmi</th>\n",
       "      <th>children</th>\n",
       "      <th>smoker</th>\n",
       "      <th>region_northeast</th>\n",
       "      <th>region_northwest</th>\n",
       "      <th>region_southeast</th>\n",
       "      <th>region_southwest</th>\n",
       "      <th>bmi_class_healthy weight</th>\n",
       "      <th>bmi_class_obese</th>\n",
       "      <th>bmi_class_overweight</th>\n",
       "      <th>bmi_class_underweight</th>\n",
       "    </tr>\n",
       "  </thead>\n",
       "  <tbody>\n",
       "    <tr>\n",
       "      <th>1114</th>\n",
       "      <td>0.108696</td>\n",
       "      <td>0</td>\n",
       "      <td>0.230024</td>\n",
       "      <td>0.0</td>\n",
       "      <td>0</td>\n",
       "      <td>1.0</td>\n",
       "      <td>0.0</td>\n",
       "      <td>0.0</td>\n",
       "      <td>0.0</td>\n",
       "      <td>1.0</td>\n",
       "      <td>0.0</td>\n",
       "      <td>0.0</td>\n",
       "      <td>0.0</td>\n",
       "    </tr>\n",
       "    <tr>\n",
       "      <th>968</th>\n",
       "      <td>0.065217</td>\n",
       "      <td>0</td>\n",
       "      <td>0.263250</td>\n",
       "      <td>0.4</td>\n",
       "      <td>0</td>\n",
       "      <td>1.0</td>\n",
       "      <td>0.0</td>\n",
       "      <td>0.0</td>\n",
       "      <td>0.0</td>\n",
       "      <td>0.0</td>\n",
       "      <td>0.0</td>\n",
       "      <td>1.0</td>\n",
       "      <td>0.0</td>\n",
       "    </tr>\n",
       "    <tr>\n",
       "      <th>599</th>\n",
       "      <td>0.739130</td>\n",
       "      <td>1</td>\n",
       "      <td>0.580172</td>\n",
       "      <td>0.4</td>\n",
       "      <td>0</td>\n",
       "      <td>0.0</td>\n",
       "      <td>1.0</td>\n",
       "      <td>0.0</td>\n",
       "      <td>0.0</td>\n",
       "      <td>0.0</td>\n",
       "      <td>1.0</td>\n",
       "      <td>0.0</td>\n",
       "      <td>0.0</td>\n",
       "    </tr>\n",
       "    <tr>\n",
       "      <th>170</th>\n",
       "      <td>0.978261</td>\n",
       "      <td>0</td>\n",
       "      <td>0.686306</td>\n",
       "      <td>0.0</td>\n",
       "      <td>0</td>\n",
       "      <td>0.0</td>\n",
       "      <td>0.0</td>\n",
       "      <td>1.0</td>\n",
       "      <td>0.0</td>\n",
       "      <td>0.0</td>\n",
       "      <td>1.0</td>\n",
       "      <td>0.0</td>\n",
       "      <td>0.0</td>\n",
       "    </tr>\n",
       "    <tr>\n",
       "      <th>275</th>\n",
       "      <td>0.630435</td>\n",
       "      <td>1</td>\n",
       "      <td>0.286252</td>\n",
       "      <td>0.4</td>\n",
       "      <td>0</td>\n",
       "      <td>1.0</td>\n",
       "      <td>0.0</td>\n",
       "      <td>0.0</td>\n",
       "      <td>0.0</td>\n",
       "      <td>0.0</td>\n",
       "      <td>0.0</td>\n",
       "      <td>1.0</td>\n",
       "      <td>0.0</td>\n",
       "    </tr>\n",
       "    <tr>\n",
       "      <th>...</th>\n",
       "      <td>...</td>\n",
       "      <td>...</td>\n",
       "      <td>...</td>\n",
       "      <td>...</td>\n",
       "      <td>...</td>\n",
       "      <td>...</td>\n",
       "      <td>...</td>\n",
       "      <td>...</td>\n",
       "      <td>...</td>\n",
       "      <td>...</td>\n",
       "      <td>...</td>\n",
       "      <td>...</td>\n",
       "      <td>...</td>\n",
       "    </tr>\n",
       "    <tr>\n",
       "      <th>1096</th>\n",
       "      <td>0.717391</td>\n",
       "      <td>1</td>\n",
       "      <td>0.511165</td>\n",
       "      <td>0.4</td>\n",
       "      <td>1</td>\n",
       "      <td>1.0</td>\n",
       "      <td>0.0</td>\n",
       "      <td>0.0</td>\n",
       "      <td>0.0</td>\n",
       "      <td>0.0</td>\n",
       "      <td>1.0</td>\n",
       "      <td>0.0</td>\n",
       "      <td>0.0</td>\n",
       "    </tr>\n",
       "    <tr>\n",
       "      <th>1131</th>\n",
       "      <td>0.195652</td>\n",
       "      <td>0</td>\n",
       "      <td>0.805488</td>\n",
       "      <td>0.4</td>\n",
       "      <td>0</td>\n",
       "      <td>0.0</td>\n",
       "      <td>0.0</td>\n",
       "      <td>0.0</td>\n",
       "      <td>1.0</td>\n",
       "      <td>0.0</td>\n",
       "      <td>1.0</td>\n",
       "      <td>0.0</td>\n",
       "      <td>0.0</td>\n",
       "    </tr>\n",
       "    <tr>\n",
       "      <th>1295</th>\n",
       "      <td>0.043478</td>\n",
       "      <td>0</td>\n",
       "      <td>0.162497</td>\n",
       "      <td>0.2</td>\n",
       "      <td>0</td>\n",
       "      <td>0.0</td>\n",
       "      <td>0.0</td>\n",
       "      <td>0.0</td>\n",
       "      <td>1.0</td>\n",
       "      <td>1.0</td>\n",
       "      <td>0.0</td>\n",
       "      <td>0.0</td>\n",
       "      <td>0.0</td>\n",
       "    </tr>\n",
       "    <tr>\n",
       "      <th>861</th>\n",
       "      <td>0.434783</td>\n",
       "      <td>1</td>\n",
       "      <td>0.323917</td>\n",
       "      <td>0.6</td>\n",
       "      <td>0</td>\n",
       "      <td>0.0</td>\n",
       "      <td>0.0</td>\n",
       "      <td>0.0</td>\n",
       "      <td>1.0</td>\n",
       "      <td>0.0</td>\n",
       "      <td>0.0</td>\n",
       "      <td>1.0</td>\n",
       "      <td>0.0</td>\n",
       "    </tr>\n",
       "    <tr>\n",
       "      <th>1127</th>\n",
       "      <td>0.369565</td>\n",
       "      <td>1</td>\n",
       "      <td>0.535378</td>\n",
       "      <td>0.4</td>\n",
       "      <td>0</td>\n",
       "      <td>0.0</td>\n",
       "      <td>0.0</td>\n",
       "      <td>1.0</td>\n",
       "      <td>0.0</td>\n",
       "      <td>0.0</td>\n",
       "      <td>1.0</td>\n",
       "      <td>0.0</td>\n",
       "      <td>0.0</td>\n",
       "    </tr>\n",
       "  </tbody>\n",
       "</table>\n",
       "<p>1069 rows × 13 columns</p>\n",
       "</div>"
      ],
      "text/plain": [
       "           age  sex       bmi  children  smoker  region_northeast  \\\n",
       "1114  0.108696    0  0.230024       0.0       0               1.0   \n",
       "968   0.065217    0  0.263250       0.4       0               1.0   \n",
       "599   0.739130    1  0.580172       0.4       0               0.0   \n",
       "170   0.978261    0  0.686306       0.0       0               0.0   \n",
       "275   0.630435    1  0.286252       0.4       0               1.0   \n",
       "...        ...  ...       ...       ...     ...               ...   \n",
       "1096  0.717391    1  0.511165       0.4       1               1.0   \n",
       "1131  0.195652    0  0.805488       0.4       0               0.0   \n",
       "1295  0.043478    0  0.162497       0.2       0               0.0   \n",
       "861   0.434783    1  0.323917       0.6       0               0.0   \n",
       "1127  0.369565    1  0.535378       0.4       0               0.0   \n",
       "\n",
       "      region_northwest  region_southeast  region_southwest  \\\n",
       "1114               0.0               0.0               0.0   \n",
       "968                0.0               0.0               0.0   \n",
       "599                1.0               0.0               0.0   \n",
       "170                0.0               1.0               0.0   \n",
       "275                0.0               0.0               0.0   \n",
       "...                ...               ...               ...   \n",
       "1096               0.0               0.0               0.0   \n",
       "1131               0.0               0.0               1.0   \n",
       "1295               0.0               0.0               1.0   \n",
       "861                0.0               0.0               1.0   \n",
       "1127               0.0               1.0               0.0   \n",
       "\n",
       "      bmi_class_healthy weight  bmi_class_obese  bmi_class_overweight  \\\n",
       "1114                       1.0              0.0                   0.0   \n",
       "968                        0.0              0.0                   1.0   \n",
       "599                        0.0              1.0                   0.0   \n",
       "170                        0.0              1.0                   0.0   \n",
       "275                        0.0              0.0                   1.0   \n",
       "...                        ...              ...                   ...   \n",
       "1096                       0.0              1.0                   0.0   \n",
       "1131                       0.0              1.0                   0.0   \n",
       "1295                       1.0              0.0                   0.0   \n",
       "861                        0.0              0.0                   1.0   \n",
       "1127                       0.0              1.0                   0.0   \n",
       "\n",
       "      bmi_class_underweight  \n",
       "1114                    0.0  \n",
       "968                     0.0  \n",
       "599                     0.0  \n",
       "170                     0.0  \n",
       "275                     0.0  \n",
       "...                     ...  \n",
       "1096                    0.0  \n",
       "1131                    0.0  \n",
       "1295                    0.0  \n",
       "861                     0.0  \n",
       "1127                    0.0  \n",
       "\n",
       "[1069 rows x 13 columns]"
      ]
     },
     "execution_count": 44,
     "metadata": {},
     "output_type": "execute_result"
    }
   ],
   "source": [
    "X_train"
   ]
  },
  {
   "cell_type": "code",
   "execution_count": 45,
   "metadata": {},
   "outputs": [
    {
     "data": {
      "text/html": [
       "<div>\n",
       "<style scoped>\n",
       "    .dataframe tbody tr th:only-of-type {\n",
       "        vertical-align: middle;\n",
       "    }\n",
       "\n",
       "    .dataframe tbody tr th {\n",
       "        vertical-align: top;\n",
       "    }\n",
       "\n",
       "    .dataframe thead th {\n",
       "        text-align: right;\n",
       "    }\n",
       "</style>\n",
       "<table border=\"1\" class=\"dataframe\">\n",
       "  <thead>\n",
       "    <tr style=\"text-align: right;\">\n",
       "      <th></th>\n",
       "      <th>age</th>\n",
       "      <th>sex</th>\n",
       "      <th>bmi</th>\n",
       "      <th>children</th>\n",
       "      <th>smoker</th>\n",
       "      <th>region_northeast</th>\n",
       "      <th>region_northwest</th>\n",
       "      <th>region_southeast</th>\n",
       "      <th>region_southwest</th>\n",
       "      <th>bmi_class_healthy weight</th>\n",
       "      <th>bmi_class_obese</th>\n",
       "      <th>bmi_class_overweight</th>\n",
       "      <th>bmi_class_underweight</th>\n",
       "    </tr>\n",
       "  </thead>\n",
       "  <tbody>\n",
       "    <tr>\n",
       "      <th>900</th>\n",
       "      <td>0.673913</td>\n",
       "      <td>0</td>\n",
       "      <td>0.176352</td>\n",
       "      <td>0.0</td>\n",
       "      <td>0</td>\n",
       "      <td>1.0</td>\n",
       "      <td>0.0</td>\n",
       "      <td>0.0</td>\n",
       "      <td>0.0</td>\n",
       "      <td>1.0</td>\n",
       "      <td>0.0</td>\n",
       "      <td>0.0</td>\n",
       "      <td>0.0</td>\n",
       "    </tr>\n",
       "    <tr>\n",
       "      <th>1064</th>\n",
       "      <td>0.239130</td>\n",
       "      <td>1</td>\n",
       "      <td>0.259349</td>\n",
       "      <td>0.8</td>\n",
       "      <td>0</td>\n",
       "      <td>0.0</td>\n",
       "      <td>0.0</td>\n",
       "      <td>0.0</td>\n",
       "      <td>1.0</td>\n",
       "      <td>0.0</td>\n",
       "      <td>0.0</td>\n",
       "      <td>1.0</td>\n",
       "      <td>0.0</td>\n",
       "    </tr>\n",
       "    <tr>\n",
       "      <th>1256</th>\n",
       "      <td>0.717391</td>\n",
       "      <td>1</td>\n",
       "      <td>0.549502</td>\n",
       "      <td>0.6</td>\n",
       "      <td>0</td>\n",
       "      <td>0.0</td>\n",
       "      <td>1.0</td>\n",
       "      <td>0.0</td>\n",
       "      <td>0.0</td>\n",
       "      <td>0.0</td>\n",
       "      <td>1.0</td>\n",
       "      <td>0.0</td>\n",
       "      <td>0.0</td>\n",
       "    </tr>\n",
       "    <tr>\n",
       "      <th>298</th>\n",
       "      <td>0.282609</td>\n",
       "      <td>0</td>\n",
       "      <td>0.495830</td>\n",
       "      <td>0.6</td>\n",
       "      <td>1</td>\n",
       "      <td>0.0</td>\n",
       "      <td>1.0</td>\n",
       "      <td>0.0</td>\n",
       "      <td>0.0</td>\n",
       "      <td>0.0</td>\n",
       "      <td>1.0</td>\n",
       "      <td>0.0</td>\n",
       "      <td>0.0</td>\n",
       "    </tr>\n",
       "    <tr>\n",
       "      <th>237</th>\n",
       "      <td>0.282609</td>\n",
       "      <td>0</td>\n",
       "      <td>0.603444</td>\n",
       "      <td>0.4</td>\n",
       "      <td>0</td>\n",
       "      <td>0.0</td>\n",
       "      <td>0.0</td>\n",
       "      <td>1.0</td>\n",
       "      <td>0.0</td>\n",
       "      <td>0.0</td>\n",
       "      <td>1.0</td>\n",
       "      <td>0.0</td>\n",
       "      <td>0.0</td>\n",
       "    </tr>\n",
       "    <tr>\n",
       "      <th>...</th>\n",
       "      <td>...</td>\n",
       "      <td>...</td>\n",
       "      <td>...</td>\n",
       "      <td>...</td>\n",
       "      <td>...</td>\n",
       "      <td>...</td>\n",
       "      <td>...</td>\n",
       "      <td>...</td>\n",
       "      <td>...</td>\n",
       "      <td>...</td>\n",
       "      <td>...</td>\n",
       "      <td>...</td>\n",
       "      <td>...</td>\n",
       "    </tr>\n",
       "    <tr>\n",
       "      <th>534</th>\n",
       "      <td>1.000000</td>\n",
       "      <td>0</td>\n",
       "      <td>0.659672</td>\n",
       "      <td>0.0</td>\n",
       "      <td>0</td>\n",
       "      <td>0.0</td>\n",
       "      <td>0.0</td>\n",
       "      <td>1.0</td>\n",
       "      <td>0.0</td>\n",
       "      <td>0.0</td>\n",
       "      <td>1.0</td>\n",
       "      <td>0.0</td>\n",
       "      <td>0.0</td>\n",
       "    </tr>\n",
       "    <tr>\n",
       "      <th>542</th>\n",
       "      <td>0.978261</td>\n",
       "      <td>1</td>\n",
       "      <td>0.547215</td>\n",
       "      <td>0.0</td>\n",
       "      <td>0</td>\n",
       "      <td>0.0</td>\n",
       "      <td>0.0</td>\n",
       "      <td>1.0</td>\n",
       "      <td>0.0</td>\n",
       "      <td>0.0</td>\n",
       "      <td>1.0</td>\n",
       "      <td>0.0</td>\n",
       "      <td>0.0</td>\n",
       "    </tr>\n",
       "    <tr>\n",
       "      <th>760</th>\n",
       "      <td>0.086957</td>\n",
       "      <td>1</td>\n",
       "      <td>0.500942</td>\n",
       "      <td>0.4</td>\n",
       "      <td>0</td>\n",
       "      <td>1.0</td>\n",
       "      <td>0.0</td>\n",
       "      <td>0.0</td>\n",
       "      <td>0.0</td>\n",
       "      <td>0.0</td>\n",
       "      <td>1.0</td>\n",
       "      <td>0.0</td>\n",
       "      <td>0.0</td>\n",
       "    </tr>\n",
       "    <tr>\n",
       "      <th>1284</th>\n",
       "      <td>0.934783</td>\n",
       "      <td>0</td>\n",
       "      <td>0.547215</td>\n",
       "      <td>0.2</td>\n",
       "      <td>1</td>\n",
       "      <td>0.0</td>\n",
       "      <td>0.0</td>\n",
       "      <td>0.0</td>\n",
       "      <td>1.0</td>\n",
       "      <td>0.0</td>\n",
       "      <td>1.0</td>\n",
       "      <td>0.0</td>\n",
       "      <td>0.0</td>\n",
       "    </tr>\n",
       "    <tr>\n",
       "      <th>1285</th>\n",
       "      <td>0.630435</td>\n",
       "      <td>1</td>\n",
       "      <td>0.224913</td>\n",
       "      <td>0.0</td>\n",
       "      <td>0</td>\n",
       "      <td>1.0</td>\n",
       "      <td>0.0</td>\n",
       "      <td>0.0</td>\n",
       "      <td>0.0</td>\n",
       "      <td>1.0</td>\n",
       "      <td>0.0</td>\n",
       "      <td>0.0</td>\n",
       "      <td>0.0</td>\n",
       "    </tr>\n",
       "  </tbody>\n",
       "</table>\n",
       "<p>268 rows × 13 columns</p>\n",
       "</div>"
      ],
      "text/plain": [
       "           age  sex       bmi  children  smoker  region_northeast  \\\n",
       "900   0.673913    0  0.176352       0.0       0               1.0   \n",
       "1064  0.239130    1  0.259349       0.8       0               0.0   \n",
       "1256  0.717391    1  0.549502       0.6       0               0.0   \n",
       "298   0.282609    0  0.495830       0.6       1               0.0   \n",
       "237   0.282609    0  0.603444       0.4       0               0.0   \n",
       "...        ...  ...       ...       ...     ...               ...   \n",
       "534   1.000000    0  0.659672       0.0       0               0.0   \n",
       "542   0.978261    1  0.547215       0.0       0               0.0   \n",
       "760   0.086957    1  0.500942       0.4       0               1.0   \n",
       "1284  0.934783    0  0.547215       0.2       1               0.0   \n",
       "1285  0.630435    1  0.224913       0.0       0               1.0   \n",
       "\n",
       "      region_northwest  region_southeast  region_southwest  \\\n",
       "900                0.0               0.0               0.0   \n",
       "1064               0.0               0.0               1.0   \n",
       "1256               1.0               0.0               0.0   \n",
       "298                1.0               0.0               0.0   \n",
       "237                0.0               1.0               0.0   \n",
       "...                ...               ...               ...   \n",
       "534                0.0               1.0               0.0   \n",
       "542                0.0               1.0               0.0   \n",
       "760                0.0               0.0               0.0   \n",
       "1284               0.0               0.0               1.0   \n",
       "1285               0.0               0.0               0.0   \n",
       "\n",
       "      bmi_class_healthy weight  bmi_class_obese  bmi_class_overweight  \\\n",
       "900                        1.0              0.0                   0.0   \n",
       "1064                       0.0              0.0                   1.0   \n",
       "1256                       0.0              1.0                   0.0   \n",
       "298                        0.0              1.0                   0.0   \n",
       "237                        0.0              1.0                   0.0   \n",
       "...                        ...              ...                   ...   \n",
       "534                        0.0              1.0                   0.0   \n",
       "542                        0.0              1.0                   0.0   \n",
       "760                        0.0              1.0                   0.0   \n",
       "1284                       0.0              1.0                   0.0   \n",
       "1285                       1.0              0.0                   0.0   \n",
       "\n",
       "      bmi_class_underweight  \n",
       "900                     0.0  \n",
       "1064                    0.0  \n",
       "1256                    0.0  \n",
       "298                     0.0  \n",
       "237                     0.0  \n",
       "...                     ...  \n",
       "534                     0.0  \n",
       "542                     0.0  \n",
       "760                     0.0  \n",
       "1284                    0.0  \n",
       "1285                    0.0  \n",
       "\n",
       "[268 rows x 13 columns]"
      ]
     },
     "execution_count": 45,
     "metadata": {},
     "output_type": "execute_result"
    }
   ],
   "source": [
    "X_val"
   ]
  },
  {
   "cell_type": "code",
   "execution_count": 46,
   "metadata": {},
   "outputs": [
    {
     "data": {
      "text/plain": [
       "1114     2396.09590\n",
       "968      3279.86855\n",
       "599     33471.97189\n",
       "170     13405.39030\n",
       "275      9715.84100\n",
       "           ...     \n",
       "1096    44641.19740\n",
       "1131     3693.42800\n",
       "1295     1964.78000\n",
       "861      7151.09200\n",
       "1127     5836.52040\n",
       "Name: charges, Length: 1069, dtype: float64"
      ]
     },
     "execution_count": 46,
     "metadata": {},
     "output_type": "execute_result"
    }
   ],
   "source": [
    "y_train"
   ]
  },
  {
   "cell_type": "code",
   "execution_count": 47,
   "metadata": {},
   "outputs": [
    {
     "data": {
      "text/plain": [
       "900      8688.85885\n",
       "1064     5708.86700\n",
       "1256    11436.73815\n",
       "298     38746.35510\n",
       "237      4463.20510\n",
       "           ...     \n",
       "534     13831.11520\n",
       "542     13887.20400\n",
       "760      3925.75820\n",
       "1284    47403.88000\n",
       "1285     8534.67180\n",
       "Name: charges, Length: 268, dtype: float64"
      ]
     },
     "execution_count": 47,
     "metadata": {},
     "output_type": "execute_result"
    }
   ],
   "source": [
    "y_val"
   ]
  },
  {
   "attachments": {},
   "cell_type": "markdown",
   "metadata": {},
   "source": [
    "# Creating the Model  \n",
    "\n",
    "It will be used the XGBRegressor model"
   ]
  },
  {
   "cell_type": "code",
   "execution_count": 48,
   "metadata": {},
   "outputs": [],
   "source": [
    "from xgboost import XGBRegressor"
   ]
  },
  {
   "cell_type": "code",
   "execution_count": 49,
   "metadata": {},
   "outputs": [
    {
     "name": "stdout",
     "output_type": "stream",
     "text": [
      "[0]\tvalidation_0-rmse:12740.82085\tvalidation_1-rmse:14354.43509\n",
      "[1]\tvalidation_0-rmse:9486.62138\tvalidation_1-rmse:10616.10467\n",
      "[2]\tvalidation_0-rmse:7287.93828\tvalidation_1-rmse:8240.67071\n",
      "[3]\tvalidation_0-rmse:5864.49266\tvalidation_1-rmse:6655.85239\n",
      "[4]\tvalidation_0-rmse:4970.66799\tvalidation_1-rmse:5662.25928\n",
      "[5]\tvalidation_0-rmse:4397.13963\tvalidation_1-rmse:5106.75982\n",
      "[6]\tvalidation_0-rmse:4057.24959\tvalidation_1-rmse:4771.82219\n",
      "[7]\tvalidation_0-rmse:3822.63958\tvalidation_1-rmse:4610.10440\n",
      "[8]\tvalidation_0-rmse:3645.34812\tvalidation_1-rmse:4541.40784\n",
      "[9]\tvalidation_0-rmse:3512.55671\tvalidation_1-rmse:4492.49500\n",
      "[10]\tvalidation_0-rmse:3375.72474\tvalidation_1-rmse:4488.07927\n",
      "[11]\tvalidation_0-rmse:3311.14597\tvalidation_1-rmse:4474.10073\n",
      "[12]\tvalidation_0-rmse:3222.20924\tvalidation_1-rmse:4471.14367\n",
      "[13]\tvalidation_0-rmse:3123.12721\tvalidation_1-rmse:4490.20394\n",
      "[14]\tvalidation_0-rmse:3050.29756\tvalidation_1-rmse:4498.37645\n",
      "[15]\tvalidation_0-rmse:3030.27200\tvalidation_1-rmse:4494.12635\n",
      "[16]\tvalidation_0-rmse:2954.61214\tvalidation_1-rmse:4496.12827\n",
      "[17]\tvalidation_0-rmse:2892.54924\tvalidation_1-rmse:4521.35732\n",
      "[18]\tvalidation_0-rmse:2764.14245\tvalidation_1-rmse:4546.57569\n",
      "[19]\tvalidation_0-rmse:2696.99813\tvalidation_1-rmse:4542.33188\n",
      "[20]\tvalidation_0-rmse:2632.43704\tvalidation_1-rmse:4530.55994\n",
      "[21]\tvalidation_0-rmse:2584.61584\tvalidation_1-rmse:4535.77625\n",
      "[22]\tvalidation_0-rmse:2527.93047\tvalidation_1-rmse:4543.95639\n",
      "[23]\tvalidation_0-rmse:2468.29461\tvalidation_1-rmse:4568.30553\n",
      "[24]\tvalidation_0-rmse:2403.46871\tvalidation_1-rmse:4583.96935\n",
      "[25]\tvalidation_0-rmse:2365.15049\tvalidation_1-rmse:4597.30591\n",
      "[26]\tvalidation_0-rmse:2328.78542\tvalidation_1-rmse:4612.73905\n",
      "[27]\tvalidation_0-rmse:2276.17594\tvalidation_1-rmse:4621.37732\n",
      "[28]\tvalidation_0-rmse:2257.53377\tvalidation_1-rmse:4630.06126\n",
      "[29]\tvalidation_0-rmse:2227.57430\tvalidation_1-rmse:4632.32797\n",
      "[30]\tvalidation_0-rmse:2158.27133\tvalidation_1-rmse:4633.59277\n",
      "[31]\tvalidation_0-rmse:2122.02279\tvalidation_1-rmse:4643.16265\n",
      "[32]\tvalidation_0-rmse:2108.64767\tvalidation_1-rmse:4642.75280\n",
      "[33]\tvalidation_0-rmse:2056.91867\tvalidation_1-rmse:4671.44408\n",
      "[34]\tvalidation_0-rmse:2033.70646\tvalidation_1-rmse:4684.71168\n",
      "[35]\tvalidation_0-rmse:2029.62547\tvalidation_1-rmse:4684.88997\n",
      "[36]\tvalidation_0-rmse:1994.54510\tvalidation_1-rmse:4693.26534\n",
      "[37]\tvalidation_0-rmse:1981.56759\tvalidation_1-rmse:4691.73150\n",
      "[38]\tvalidation_0-rmse:1926.58067\tvalidation_1-rmse:4695.43395\n",
      "[39]\tvalidation_0-rmse:1874.85411\tvalidation_1-rmse:4717.92004\n",
      "[40]\tvalidation_0-rmse:1857.27879\tvalidation_1-rmse:4718.50099\n",
      "[41]\tvalidation_0-rmse:1830.16744\tvalidation_1-rmse:4709.73574\n",
      "[42]\tvalidation_0-rmse:1767.69701\tvalidation_1-rmse:4724.83488\n",
      "[43]\tvalidation_0-rmse:1703.13915\tvalidation_1-rmse:4778.27119\n",
      "[44]\tvalidation_0-rmse:1656.20379\tvalidation_1-rmse:4788.64363\n",
      "[45]\tvalidation_0-rmse:1609.83477\tvalidation_1-rmse:4777.29533\n",
      "[46]\tvalidation_0-rmse:1572.18702\tvalidation_1-rmse:4781.85206\n",
      "[47]\tvalidation_0-rmse:1567.22527\tvalidation_1-rmse:4783.89930\n",
      "[48]\tvalidation_0-rmse:1539.31888\tvalidation_1-rmse:4808.19374\n",
      "[49]\tvalidation_0-rmse:1532.71819\tvalidation_1-rmse:4809.19389\n",
      "[50]\tvalidation_0-rmse:1509.51840\tvalidation_1-rmse:4819.17982\n",
      "[51]\tvalidation_0-rmse:1470.37402\tvalidation_1-rmse:4818.69505\n",
      "[52]\tvalidation_0-rmse:1448.02958\tvalidation_1-rmse:4845.66365\n",
      "[53]\tvalidation_0-rmse:1442.19708\tvalidation_1-rmse:4843.40563\n",
      "[54]\tvalidation_0-rmse:1393.94653\tvalidation_1-rmse:4846.84045\n",
      "[55]\tvalidation_0-rmse:1372.76705\tvalidation_1-rmse:4841.93288\n",
      "[56]\tvalidation_0-rmse:1338.61655\tvalidation_1-rmse:4873.32958\n",
      "[57]\tvalidation_0-rmse:1299.63161\tvalidation_1-rmse:4886.52445\n",
      "[58]\tvalidation_0-rmse:1292.29898\tvalidation_1-rmse:4888.67500\n",
      "[59]\tvalidation_0-rmse:1282.16949\tvalidation_1-rmse:4890.51711\n",
      "[60]\tvalidation_0-rmse:1273.10161\tvalidation_1-rmse:4890.99547\n",
      "[61]\tvalidation_0-rmse:1256.99184\tvalidation_1-rmse:4891.56390\n"
     ]
    },
    {
     "data": {
      "text/plain": [
       "XGBRegressor(base_score=0.5, booster='gbtree', callbacks=None,\n",
       "             colsample_bylevel=1, colsample_bynode=1, colsample_bytree=1,\n",
       "             early_stopping_rounds=50, enable_categorical=False,\n",
       "             eval_metric=None, gamma=0, gpu_id=-1, grow_policy='depthwise',\n",
       "             importance_type=None, interaction_constraints='',\n",
       "             learning_rate=0.300000012, max_bin=256, max_cat_to_onehot=4,\n",
       "             max_delta_step=0, max_depth=6, max_leaves=0, min_child_weight=1,\n",
       "             missing=nan, monotone_constraints='()', n_estimators=1000,\n",
       "             n_jobs=-1, num_parallel_tree=1, predictor='auto', random_state=42,\n",
       "             reg_alpha=0, reg_lambda=1, ...)"
      ]
     },
     "execution_count": 49,
     "metadata": {},
     "output_type": "execute_result"
    }
   ],
   "source": [
    "model = XGBRegressor(n_jobs=-1, n_estimators=1000, early_stopping_rounds=50, random_state=42)\n",
    "model.fit(X_train, y_train, eval_set=[(X_train, y_train),(X_val,y_val)])"
   ]
  },
  {
   "attachments": {},
   "cell_type": "markdown",
   "metadata": {},
   "source": [
    "# Checking the Importance of Each Feature"
   ]
  },
  {
   "cell_type": "code",
   "execution_count": 50,
   "metadata": {},
   "outputs": [
    {
     "data": {
      "text/html": [
       "<div>\n",
       "<style scoped>\n",
       "    .dataframe tbody tr th:only-of-type {\n",
       "        vertical-align: middle;\n",
       "    }\n",
       "\n",
       "    .dataframe tbody tr th {\n",
       "        vertical-align: top;\n",
       "    }\n",
       "\n",
       "    .dataframe thead th {\n",
       "        text-align: right;\n",
       "    }\n",
       "</style>\n",
       "<table border=\"1\" class=\"dataframe\">\n",
       "  <thead>\n",
       "    <tr style=\"text-align: right;\">\n",
       "      <th></th>\n",
       "      <th>Feature</th>\n",
       "      <th>Importance</th>\n",
       "    </tr>\n",
       "  </thead>\n",
       "  <tbody>\n",
       "    <tr>\n",
       "      <th>4</th>\n",
       "      <td>smoker</td>\n",
       "      <td>0.903173</td>\n",
       "    </tr>\n",
       "    <tr>\n",
       "      <th>2</th>\n",
       "      <td>bmi</td>\n",
       "      <td>0.020471</td>\n",
       "    </tr>\n",
       "    <tr>\n",
       "      <th>0</th>\n",
       "      <td>age</td>\n",
       "      <td>0.016071</td>\n",
       "    </tr>\n",
       "    <tr>\n",
       "      <th>9</th>\n",
       "      <td>bmi_class_healthy weight</td>\n",
       "      <td>0.012697</td>\n",
       "    </tr>\n",
       "    <tr>\n",
       "      <th>10</th>\n",
       "      <td>bmi_class_obese</td>\n",
       "      <td>0.007735</td>\n",
       "    </tr>\n",
       "    <tr>\n",
       "      <th>3</th>\n",
       "      <td>children</td>\n",
       "      <td>0.007344</td>\n",
       "    </tr>\n",
       "    <tr>\n",
       "      <th>6</th>\n",
       "      <td>region_northwest</td>\n",
       "      <td>0.007163</td>\n",
       "    </tr>\n",
       "    <tr>\n",
       "      <th>11</th>\n",
       "      <td>bmi_class_overweight</td>\n",
       "      <td>0.006668</td>\n",
       "    </tr>\n",
       "    <tr>\n",
       "      <th>8</th>\n",
       "      <td>region_southwest</td>\n",
       "      <td>0.005663</td>\n",
       "    </tr>\n",
       "    <tr>\n",
       "      <th>7</th>\n",
       "      <td>region_southeast</td>\n",
       "      <td>0.005130</td>\n",
       "    </tr>\n",
       "    <tr>\n",
       "      <th>1</th>\n",
       "      <td>sex</td>\n",
       "      <td>0.004088</td>\n",
       "    </tr>\n",
       "    <tr>\n",
       "      <th>5</th>\n",
       "      <td>region_northeast</td>\n",
       "      <td>0.003797</td>\n",
       "    </tr>\n",
       "    <tr>\n",
       "      <th>12</th>\n",
       "      <td>bmi_class_underweight</td>\n",
       "      <td>0.000000</td>\n",
       "    </tr>\n",
       "  </tbody>\n",
       "</table>\n",
       "</div>"
      ],
      "text/plain": [
       "                     Feature  Importance\n",
       "4                     smoker    0.903173\n",
       "2                        bmi    0.020471\n",
       "0                        age    0.016071\n",
       "9   bmi_class_healthy weight    0.012697\n",
       "10           bmi_class_obese    0.007735\n",
       "3                   children    0.007344\n",
       "6           region_northwest    0.007163\n",
       "11      bmi_class_overweight    0.006668\n",
       "8           region_southwest    0.005663\n",
       "7           region_southeast    0.005130\n",
       "1                        sex    0.004088\n",
       "5           region_northeast    0.003797\n",
       "12     bmi_class_underweight    0.000000"
      ]
     },
     "execution_count": 50,
     "metadata": {},
     "output_type": "execute_result"
    }
   ],
   "source": [
    "feature_importance_df = pd.DataFrame({\n",
    "    'Feature':input_df.columns,\n",
    "    'Importance':model.feature_importances_\n",
    "})\n",
    "\n",
    "feature_importance_df.sort_values('Importance', ascending=False)"
   ]
  },
  {
   "cell_type": "code",
   "execution_count": 51,
   "metadata": {},
   "outputs": [
    {
     "data": {
      "image/png": "[encoded data removed]",
      "text/plain": [
       "<Figure size 1080x360 with 1 Axes>"
      ]
     },
     "metadata": {
      "needs_background": "light"
     },
     "output_type": "display_data"
    }
   ],
   "source": [
    "sns.barplot(data=feature_importance_df.sort_values('Importance', ascending=False), y='Feature', x='Importance');"
   ]
  },
  {
   "attachments": {},
   "cell_type": "markdown",
   "metadata": {},
   "source": [
    "The smoker feature appears to be the most important one in determining the charges."
   ]
  },
  {
   "attachments": {},
   "cell_type": "markdown",
   "metadata": {},
   "source": [
    "To check the best number of trees."
   ]
  },
  {
   "cell_type": "code",
   "execution_count": 52,
   "metadata": {},
   "outputs": [
    {
     "data": {
      "text/plain": [
       "13"
      ]
     },
     "execution_count": 52,
     "metadata": {},
     "output_type": "execute_result"
    }
   ],
   "source": [
    "model.best_ntree_limit"
   ]
  },
  {
   "attachments": {},
   "cell_type": "markdown",
   "metadata": {},
   "source": [
    "13 is the best number of trees use in the model."
   ]
  },
  {
   "attachments": {},
   "cell_type": "markdown",
   "metadata": {},
   "source": [
    "Checking the R^2 score for train and validation sets."
   ]
  },
  {
   "cell_type": "code",
   "execution_count": 53,
   "metadata": {},
   "outputs": [
    {
     "name": "stdout",
     "output_type": "stream",
     "text": [
      "The R^2 Score for the Training Set is: 0.92416713065968\n",
      "The R^2 Score for the Validation Set is: 0.8912083506265275\n"
     ]
    }
   ],
   "source": [
    "from sklearn.metrics import r2_score\n",
    "\n",
    "print('The R^2 Score for the Training Set is: {}'.format(r2_score(y_train, model.predict(X_train))))\n",
    "print('The R^2 Score for the Validation Set is: {}'.format(r2_score(y_val, model.predict(X_val))))"
   ]
  },
  {
   "attachments": {},
   "cell_type": "markdown",
   "metadata": {},
   "source": [
    "Since it ranges from 0 to 1, where 0 is the minimum and 1 the maximum, the model seems to work properly.  \n",
    "\n",
    "Moreover, another way to check the goodness of a model is by performing NRMSE = RMSE/(y_max-y_min) --> https://www.statology.org/what-is-a-good-rmse/  \n",
    "\n",
    "The closer to 0 the better."
   ]
  },
  {
   "cell_type": "code",
   "execution_count": 54,
   "metadata": {},
   "outputs": [
    {
     "name": "stdout",
     "output_type": "stream",
     "text": [
      "The RMSE is: 4471.143622095877\n",
      "The NRMSE is: 0.07136866421921444\n"
     ]
    }
   ],
   "source": [
    "from sklearn.metrics import mean_squared_error\n",
    "\n",
    "rmse = mean_squared_error(y_val, model.predict(X_val), squared=False)\n",
    "\n",
    "nrmse = rmse/(max(target_df)-min(target_df))\n",
    "\n",
    "print('The RMSE is: {}'.format(rmse))\n",
    "print('The NRMSE is: {}'.format(nrmse))"
   ]
  },
  {
   "attachments": {},
   "cell_type": "markdown",
   "metadata": {},
   "source": [
    "Now it is better to check some examples of the difference between the predicted and the actual values."
   ]
  },
  {
   "cell_type": "code",
   "execution_count": 55,
   "metadata": {},
   "outputs": [
    {
     "data": {
      "text/plain": [
       "array([ 9457.824 ,  5656.2124, 13328.179 , 37901.95  ,  5033.9526,\n",
       "        9560.842 , 37780.    ,  2835.1318,  8372.604 , 10332.222 ],\n",
       "      dtype=float32)"
      ]
     },
     "execution_count": 55,
     "metadata": {},
     "output_type": "execute_result"
    }
   ],
   "source": [
    "y_pred = model.predict(X_val)\n",
    "y_pred[:10]"
   ]
  },
  {
   "cell_type": "code",
   "execution_count": 56,
   "metadata": {},
   "outputs": [
    {
     "data": {
      "text/plain": [
       "900      8688.85885\n",
       "1064     5708.86700\n",
       "1256    11436.73815\n",
       "298     38746.35510\n",
       "237      4463.20510\n",
       "481      9304.70190\n",
       "240     38511.62830\n",
       "277      2150.46900\n",
       "415      7345.72660\n",
       "707     10264.44210\n",
       "Name: charges, dtype: float64"
      ]
     },
     "execution_count": 56,
     "metadata": {},
     "output_type": "execute_result"
    }
   ],
   "source": [
    "y_val[:10]"
   ]
  },
  {
   "attachments": {},
   "cell_type": "markdown",
   "metadata": {},
   "source": [
    "The predictions, except certain cases, do not seem to be so far from reality."
   ]
  },
  {
   "attachments": {},
   "cell_type": "markdown",
   "metadata": {},
   "source": [
    "# Hyperparameter Tuning  \n",
    "\n",
    "In this section are provided some techniques to improve the score of the model.  \n",
    "\n",
    "The hyperparameters can be found here: https://xgboost.readthedocs.io/en/latest/python/python_api.html#xgboost.XGBRegressor"
   ]
  },
  {
   "attachments": {},
   "cell_type": "markdown",
   "metadata": {},
   "source": [
    "## Max Depth"
   ]
  },
  {
   "cell_type": "code",
   "execution_count": 57,
   "metadata": {},
   "outputs": [],
   "source": [
    "def optimal_max_depth(number):\n",
    "    max_depth_model = XGBRegressor(n_jobs=-1, n_estimators=13, max_depth=number ,random_state=42)\n",
    "    max_depth_model.fit(X_train, y_train)\n",
    "    train_rmse = mean_squared_error(y_train, max_depth_model.predict(X_train), squared=False)\n",
    "    val_rmse = mean_squared_error(y_val, max_depth_model.predict(X_val), squared=False)\n",
    "    return {'Max_Depth':number, 'Train_Rmse':train_rmse, 'Validation_Rmse':val_rmse}"
   ]
  },
  {
   "cell_type": "code",
   "execution_count": 58,
   "metadata": {},
   "outputs": [
    {
     "data": {
      "text/html": [
       "<div>\n",
       "<style scoped>\n",
       "    .dataframe tbody tr th:only-of-type {\n",
       "        vertical-align: middle;\n",
       "    }\n",
       "\n",
       "    .dataframe tbody tr th {\n",
       "        vertical-align: top;\n",
       "    }\n",
       "\n",
       "    .dataframe thead th {\n",
       "        text-align: right;\n",
       "    }\n",
       "</style>\n",
       "<table border=\"1\" class=\"dataframe\">\n",
       "  <thead>\n",
       "    <tr style=\"text-align: right;\">\n",
       "      <th></th>\n",
       "      <th>Max_Depth</th>\n",
       "      <th>Train_Rmse</th>\n",
       "      <th>Validation_Rmse</th>\n",
       "    </tr>\n",
       "  </thead>\n",
       "  <tbody>\n",
       "    <tr>\n",
       "      <th>2</th>\n",
       "      <td>3</td>\n",
       "      <td>4264.770476</td>\n",
       "      <td>4251.996995</td>\n",
       "    </tr>\n",
       "    <tr>\n",
       "      <th>3</th>\n",
       "      <td>4</td>\n",
       "      <td>4038.957467</td>\n",
       "      <td>4280.987639</td>\n",
       "    </tr>\n",
       "    <tr>\n",
       "      <th>4</th>\n",
       "      <td>5</td>\n",
       "      <td>3674.277444</td>\n",
       "      <td>4356.719852</td>\n",
       "    </tr>\n",
       "    <tr>\n",
       "      <th>1</th>\n",
       "      <td>2</td>\n",
       "      <td>4458.462012</td>\n",
       "      <td>4405.776079</td>\n",
       "    </tr>\n",
       "    <tr>\n",
       "      <th>5</th>\n",
       "      <td>6</td>\n",
       "      <td>3222.209225</td>\n",
       "      <td>4471.143622</td>\n",
       "    </tr>\n",
       "  </tbody>\n",
       "</table>\n",
       "</div>"
      ],
      "text/plain": [
       "   Max_Depth   Train_Rmse  Validation_Rmse\n",
       "2          3  4264.770476      4251.996995\n",
       "3          4  4038.957467      4280.987639\n",
       "4          5  3674.277444      4356.719852\n",
       "1          2  4458.462012      4405.776079\n",
       "5          6  3222.209225      4471.143622"
      ]
     },
     "execution_count": 58,
     "metadata": {},
     "output_type": "execute_result"
    }
   ],
   "source": [
    "max_depth_df = pd.DataFrame([optimal_max_depth(number) for number in range(1,10)]).sort_values('Validation_Rmse')\n",
    "max_depth_df.head()"
   ]
  },
  {
   "cell_type": "code",
   "execution_count": 59,
   "metadata": {},
   "outputs": [
    {
     "data": {
      "image/png": "[encoded data removed]",
      "text/plain": [
       "<Figure size 1080x360 with 1 Axes>"
      ]
     },
     "metadata": {
      "needs_background": "light"
     },
     "output_type": "display_data"
    }
   ],
   "source": [
    "sns.lineplot(data=max_depth_df, x='Max_Depth', y='Train_Rmse')\n",
    "sns.lineplot(data=max_depth_df, x='Max_Depth', y='Validation_Rmse')\n",
    "plt.ylabel('Train and Validation RMSE');"
   ]
  },
  {
   "attachments": {},
   "cell_type": "markdown",
   "metadata": {},
   "source": [
    "At \"max_depth\"=3 the validation rmse starts increasing."
   ]
  },
  {
   "attachments": {},
   "cell_type": "markdown",
   "metadata": {},
   "source": [
    "## Learning Rate  "
   ]
  },
  {
   "cell_type": "code",
   "execution_count": 60,
   "metadata": {},
   "outputs": [],
   "source": [
    "def optimal_learning_rate(number):\n",
    "    model = XGBRegressor(n_jobs=-1, n_estimators=13, max_depth=3, learning_rate=number, random_state=42)\n",
    "    model.fit(X_train, y_train)\n",
    "    train_rmse = mean_squared_error(y_train, model.predict(X_train), squared=False)\n",
    "    val_rmse = mean_squared_error(y_val, model.predict(X_val), squared=False)\n",
    "    return {'Learning_Rate':number, 'Train_Rmse':train_rmse, 'Validation_Rmse':val_rmse}"
   ]
  },
  {
   "cell_type": "code",
   "execution_count": 61,
   "metadata": {},
   "outputs": [
    {
     "data": {
      "text/html": [
       "<div>\n",
       "<style scoped>\n",
       "    .dataframe tbody tr th:only-of-type {\n",
       "        vertical-align: middle;\n",
       "    }\n",
       "\n",
       "    .dataframe tbody tr th {\n",
       "        vertical-align: top;\n",
       "    }\n",
       "\n",
       "    .dataframe thead th {\n",
       "        text-align: right;\n",
       "    }\n",
       "</style>\n",
       "<table border=\"1\" class=\"dataframe\">\n",
       "  <thead>\n",
       "    <tr style=\"text-align: right;\">\n",
       "      <th></th>\n",
       "      <th>Learning_Rate</th>\n",
       "      <th>Train_Rmse</th>\n",
       "      <th>Validation_Rmse</th>\n",
       "    </tr>\n",
       "  </thead>\n",
       "  <tbody>\n",
       "    <tr>\n",
       "      <th>5</th>\n",
       "      <td>0.35</td>\n",
       "      <td>4217.498960</td>\n",
       "      <td>4238.039332</td>\n",
       "    </tr>\n",
       "    <tr>\n",
       "      <th>8</th>\n",
       "      <td>0.50</td>\n",
       "      <td>4097.225842</td>\n",
       "      <td>4244.259593</td>\n",
       "    </tr>\n",
       "    <tr>\n",
       "      <th>9</th>\n",
       "      <td>0.55</td>\n",
       "      <td>4008.885655</td>\n",
       "      <td>4247.309357</td>\n",
       "    </tr>\n",
       "    <tr>\n",
       "      <th>4</th>\n",
       "      <td>0.30</td>\n",
       "      <td>4264.770476</td>\n",
       "      <td>4251.996995</td>\n",
       "    </tr>\n",
       "    <tr>\n",
       "      <th>7</th>\n",
       "      <td>0.45</td>\n",
       "      <td>4131.279452</td>\n",
       "      <td>4257.320246</td>\n",
       "    </tr>\n",
       "  </tbody>\n",
       "</table>\n",
       "</div>"
      ],
      "text/plain": [
       "   Learning_Rate   Train_Rmse  Validation_Rmse\n",
       "5           0.35  4217.498960      4238.039332\n",
       "8           0.50  4097.225842      4244.259593\n",
       "9           0.55  4008.885655      4247.309357\n",
       "4           0.30  4264.770476      4251.996995\n",
       "7           0.45  4131.279452      4257.320246"
      ]
     },
     "execution_count": 61,
     "metadata": {},
     "output_type": "execute_result"
    }
   ],
   "source": [
    "learning_rate_df = pd.DataFrame([optimal_learning_rate(number) for number in np.arange(0.1,1,0.05)]).sort_values('Validation_Rmse')\n",
    "learning_rate_df.head()"
   ]
  },
  {
   "cell_type": "code",
   "execution_count": 62,
   "metadata": {},
   "outputs": [
    {
     "data": {
      "image/png": "[encoded data removed]",
      "text/plain": [
       "<Figure size 1080x360 with 1 Axes>"
      ]
     },
     "metadata": {
      "needs_background": "light"
     },
     "output_type": "display_data"
    }
   ],
   "source": [
    "sns.lineplot(data=learning_rate_df, x='Learning_Rate', y='Train_Rmse')\n",
    "sns.lineplot(data=learning_rate_df, x='Learning_Rate', y='Validation_Rmse')\n",
    "plt.ylabel('Train and Validation RMSE');"
   ]
  },
  {
   "attachments": {},
   "cell_type": "markdown",
   "metadata": {},
   "source": [
    "0.35 is the best value."
   ]
  },
  {
   "attachments": {},
   "cell_type": "markdown",
   "metadata": {},
   "source": [
    "## Min Child Weight  "
   ]
  },
  {
   "cell_type": "code",
   "execution_count": 63,
   "metadata": {},
   "outputs": [],
   "source": [
    "def optimal_child_weight(number):\n",
    "    model = XGBRegressor(n_jobs=-1, n_estimators=13, max_depth=3, learning_rate=0.35, min_child_weight=number ,random_state=42)\n",
    "    model.fit(X_train, y_train)\n",
    "    train_rmse = mean_squared_error(y_train, model.predict(X_train), squared=False)\n",
    "    val_rmse = mean_squared_error(y_val, model.predict(X_val), squared=False)\n",
    "    return {'Min_Child_Weight':number, 'Train_Rmse':train_rmse, 'Validation_Rmse':val_rmse}"
   ]
  },
  {
   "cell_type": "code",
   "execution_count": 64,
   "metadata": {},
   "outputs": [
    {
     "data": {
      "text/html": [
       "<div>\n",
       "<style scoped>\n",
       "    .dataframe tbody tr th:only-of-type {\n",
       "        vertical-align: middle;\n",
       "    }\n",
       "\n",
       "    .dataframe tbody tr th {\n",
       "        vertical-align: top;\n",
       "    }\n",
       "\n",
       "    .dataframe thead th {\n",
       "        text-align: right;\n",
       "    }\n",
       "</style>\n",
       "<table border=\"1\" class=\"dataframe\">\n",
       "  <thead>\n",
       "    <tr style=\"text-align: right;\">\n",
       "      <th></th>\n",
       "      <th>Min_Child_Weight</th>\n",
       "      <th>Train_Rmse</th>\n",
       "      <th>Validation_Rmse</th>\n",
       "    </tr>\n",
       "  </thead>\n",
       "  <tbody>\n",
       "    <tr>\n",
       "      <th>8</th>\n",
       "      <td>8</td>\n",
       "      <td>4248.802687</td>\n",
       "      <td>4187.605787</td>\n",
       "    </tr>\n",
       "    <tr>\n",
       "      <th>9</th>\n",
       "      <td>9</td>\n",
       "      <td>4246.365003</td>\n",
       "      <td>4199.642400</td>\n",
       "    </tr>\n",
       "    <tr>\n",
       "      <th>7</th>\n",
       "      <td>7</td>\n",
       "      <td>4245.259970</td>\n",
       "      <td>4201.440936</td>\n",
       "    </tr>\n",
       "    <tr>\n",
       "      <th>2</th>\n",
       "      <td>2</td>\n",
       "      <td>4223.506507</td>\n",
       "      <td>4222.713290</td>\n",
       "    </tr>\n",
       "    <tr>\n",
       "      <th>3</th>\n",
       "      <td>3</td>\n",
       "      <td>4233.919525</td>\n",
       "      <td>4235.137942</td>\n",
       "    </tr>\n",
       "  </tbody>\n",
       "</table>\n",
       "</div>"
      ],
      "text/plain": [
       "   Min_Child_Weight   Train_Rmse  Validation_Rmse\n",
       "8                 8  4248.802687      4187.605787\n",
       "9                 9  4246.365003      4199.642400\n",
       "7                 7  4245.259970      4201.440936\n",
       "2                 2  4223.506507      4222.713290\n",
       "3                 3  4233.919525      4235.137942"
      ]
     },
     "execution_count": 64,
     "metadata": {},
     "output_type": "execute_result"
    }
   ],
   "source": [
    "child_weight_df = pd.DataFrame([optimal_child_weight(number) for number in range(0,10)]).sort_values('Validation_Rmse')\n",
    "child_weight_df.head()"
   ]
  },
  {
   "cell_type": "code",
   "execution_count": 65,
   "metadata": {},
   "outputs": [
    {
     "data": {
      "image/png": "[encoded data removed]",
      "text/plain": [
       "<Figure size 1080x360 with 1 Axes>"
      ]
     },
     "metadata": {
      "needs_background": "light"
     },
     "output_type": "display_data"
    }
   ],
   "source": [
    "sns.lineplot(data=child_weight_df, x='Min_Child_Weight', y='Train_Rmse')\n",
    "sns.lineplot(data=child_weight_df, x='Min_Child_Weight', y='Validation_Rmse')\n",
    "plt.ylabel('Train and Validation RMSE');"
   ]
  },
  {
   "attachments": {},
   "cell_type": "markdown",
   "metadata": {},
   "source": [
    "At level 8 the rmse decreases a lot."
   ]
  },
  {
   "attachments": {},
   "cell_type": "markdown",
   "metadata": {},
   "source": [
    "# Creating a New Model"
   ]
  },
  {
   "cell_type": "code",
   "execution_count": 66,
   "metadata": {},
   "outputs": [
    {
     "data": {
      "text/plain": [
       "XGBRegressor(base_score=0.5, booster='gbtree', callbacks=None,\n",
       "             colsample_bylevel=1, colsample_bynode=1, colsample_bytree=1,\n",
       "             early_stopping_rounds=None, enable_categorical=False,\n",
       "             eval_metric=None, gamma=0, gpu_id=-1, grow_policy='depthwise',\n",
       "             importance_type=None, interaction_constraints='',\n",
       "             learning_rate=0.35, max_bin=256, max_cat_to_onehot=4,\n",
       "             max_delta_step=0, max_depth=3, max_leaves=0, min_child_weight=8,\n",
       "             missing=nan, monotone_constraints='()', n_estimators=13, n_jobs=-1,\n",
       "             num_parallel_tree=1, predictor='auto', random_state=42,\n",
       "             reg_alpha=0, reg_lambda=1, ...)"
      ]
     },
     "execution_count": 66,
     "metadata": {},
     "output_type": "execute_result"
    }
   ],
   "source": [
    "final_model = XGBRegressor(n_jobs=-1, n_estimators=13, max_depth=3, learning_rate=0.35, min_child_weight=8, random_state=42)\n",
    "final_model.fit(X_train, y_train)"
   ]
  },
  {
   "attachments": {},
   "cell_type": "markdown",
   "metadata": {},
   "source": [
    "Checking new scores."
   ]
  },
  {
   "cell_type": "code",
   "execution_count": 67,
   "metadata": {},
   "outputs": [
    {
     "name": "stdout",
     "output_type": "stream",
     "text": [
      "The R^2 Score for the Training Set is: 0.8681490868783452\n",
      "The R^2 Score for the Validation Set is: 0.9045689059547112\n"
     ]
    }
   ],
   "source": [
    "print('The R^2 Score for the Training Set is: {}'.format(r2_score(y_train, final_model.predict(X_train))))\n",
    "print('The R^2 Score for the Validation Set is: {}'.format(r2_score(y_val, final_model.predict(X_val))))"
   ]
  },
  {
   "attachments": {},
   "cell_type": "markdown",
   "metadata": {},
   "source": [
    "The R^2 score of the validation set has improved."
   ]
  },
  {
   "cell_type": "code",
   "execution_count": 68,
   "metadata": {},
   "outputs": [
    {
     "name": "stdout",
     "output_type": "stream",
     "text": [
      "The RMSE is: 4187.605787188936\n",
      "The NRMSE is: 0.0668428161939097\n"
     ]
    }
   ],
   "source": [
    "rmse = mean_squared_error(y_val, final_model.predict(X_val), squared=False)\n",
    "\n",
    "nrmse = rmse/(max(target_df)-min(target_df))\n",
    "\n",
    "print('The RMSE is: {}'.format(rmse))\n",
    "print('The NRMSE is: {}'.format(nrmse))"
   ]
  },
  {
   "attachments": {},
   "cell_type": "markdown",
   "metadata": {},
   "source": [
    "The rmse and the nrmse have decreased, the hyperparameter tuning was completed successfully. "
   ]
  },
  {
   "attachments": {},
   "cell_type": "markdown",
   "metadata": {},
   "source": [
    "# Making Predictions on New Inputs"
   ]
  },
  {
   "cell_type": "code",
   "execution_count": 80,
   "metadata": {},
   "outputs": [],
   "source": [
    "def make_new_predictions(single_input):\n",
    "    single_input_df = pd.DataFrame([single_input])\n",
    "    single_input_df['bmi_class']=single_input_df.bmi.map(bmi_estimator)\n",
    "    single_input_df['sex'] = single_input_df.sex.map(sex_dict)\n",
    "    single_input_df['smoker'] = single_input_df.smoker.map(smoker_dict)\n",
    "    single_input_df[encoded_cols] = encoder.transform(single_input_df[columns_to_encode]) \n",
    "    single_input_df[columns_to_scale] = scaler.transform(single_input_df[columns_to_scale])\n",
    "    single_input_df = single_input_df.drop(columns=['region', 'bmi_class'])\n",
    "    pred = final_model.predict(single_input_df)[0]\n",
    "    return 'The charge is: ${}'.format(pred)\n",
    "    "
   ]
  },
  {
   "cell_type": "code",
   "execution_count": 70,
   "metadata": {},
   "outputs": [],
   "source": [
    "new_input = {\n",
    "    'age':23,\n",
    "    'sex':'male',\n",
    "    'bmi':28.1,\n",
    "    'children':0,\n",
    "    'smoker':'no',\n",
    "    'region':'northwest'\n",
    "}"
   ]
  },
  {
   "cell_type": "code",
   "execution_count": 81,
   "metadata": {},
   "outputs": [
    {
     "data": {
      "text/plain": [
       "'The charge is: $4507.5537109375'"
      ]
     },
     "execution_count": 81,
     "metadata": {},
     "output_type": "execute_result"
    }
   ],
   "source": [
    "make_new_predictions(new_input)"
   ]
  },
  {
   "attachments": {},
   "cell_type": "markdown",
   "metadata": {},
   "source": [
    "# Extra: Using an Artificial Neural Network"
   ]
  },
  {
   "cell_type": "code",
   "execution_count": null,
   "metadata": {},
   "outputs": [],
   "source": [
    "import tensorflow as tfl\n",
    "from tensorflow import keras"
   ]
  },
  {
   "cell_type": "code",
   "execution_count": 247,
   "metadata": {},
   "outputs": [
    {
     "name": "stdout",
     "output_type": "stream",
     "text": [
      "Epoch 1/100\n",
      "34/34 [==============================] - 0s 2ms/step - loss: 1023015744.0000 - root_mean_squared_error: 31984.6172\n",
      "Epoch 2/100\n",
      "34/34 [==============================] - 0s 2ms/step - loss: 176589888.0000 - root_mean_squared_error: 13288.7129\n",
      "Epoch 3/100\n",
      "34/34 [==============================] - 0s 2ms/step - loss: 147162272.0000 - root_mean_squared_error: 12131.0459\n",
      "Epoch 4/100\n",
      "34/34 [==============================] - 0s 2ms/step - loss: 139552272.0000 - root_mean_squared_error: 11813.2246\n",
      "Epoch 5/100\n",
      "34/34 [==============================] - 0s 2ms/step - loss: 137603088.0000 - root_mean_squared_error: 11730.4346\n",
      "Epoch 6/100\n",
      "34/34 [==============================] - 0s 2ms/step - loss: 137115984.0000 - root_mean_squared_error: 11709.6533\n",
      "Epoch 7/100\n",
      "34/34 [==============================] - 0s 2ms/step - loss: 136999296.0000 - root_mean_squared_error: 11704.6699\n",
      "Epoch 8/100\n",
      "34/34 [==============================] - 0s 2ms/step - loss: 136994272.0000 - root_mean_squared_error: 11704.4551\n",
      "Epoch 9/100\n",
      "34/34 [==============================] - 0s 2ms/step - loss: 136996112.0000 - root_mean_squared_error: 11704.5342\n",
      "Epoch 10/100\n",
      "34/34 [==============================] - 0s 2ms/step - loss: 136972224.0000 - root_mean_squared_error: 11703.5137\n",
      "Epoch 11/100\n",
      "34/34 [==============================] - 0s 2ms/step - loss: 137018096.0000 - root_mean_squared_error: 11705.4727\n",
      "Epoch 12/100\n",
      "34/34 [==============================] - 0s 2ms/step - loss: 136983792.0000 - root_mean_squared_error: 11704.0078\n",
      "Epoch 13/100\n",
      "34/34 [==============================] - 0s 2ms/step - loss: 136982960.0000 - root_mean_squared_error: 11703.9717\n",
      "Epoch 14/100\n",
      "34/34 [==============================] - 0s 2ms/step - loss: 137011376.0000 - root_mean_squared_error: 11705.1855\n",
      "Epoch 15/100\n",
      "34/34 [==============================] - 0s 2ms/step - loss: 137011952.0000 - root_mean_squared_error: 11705.2109\n",
      "Epoch 16/100\n",
      "34/34 [==============================] - 0s 2ms/step - loss: 136983872.0000 - root_mean_squared_error: 11704.0107\n",
      "Epoch 17/100\n",
      "34/34 [==============================] - 0s 2ms/step - loss: 136980240.0000 - root_mean_squared_error: 11703.8555\n",
      "Epoch 18/100\n",
      "34/34 [==============================] - 0s 2ms/step - loss: 136984624.0000 - root_mean_squared_error: 11704.0430\n",
      "Epoch 19/100\n",
      "34/34 [==============================] - 0s 2ms/step - loss: 137001376.0000 - root_mean_squared_error: 11704.7588\n",
      "Epoch 20/100\n",
      "34/34 [==============================] - 0s 2ms/step - loss: 137019328.0000 - root_mean_squared_error: 11705.5254\n",
      "Epoch 21/100\n",
      "34/34 [==============================] - 0s 2ms/step - loss: 136977648.0000 - root_mean_squared_error: 11703.7451\n",
      "Epoch 22/100\n",
      "34/34 [==============================] - 0s 2ms/step - loss: 137017584.0000 - root_mean_squared_error: 11705.4512\n",
      "Epoch 23/100\n",
      "34/34 [==============================] - 0s 2ms/step - loss: 137005824.0000 - root_mean_squared_error: 11704.9482\n",
      "Epoch 24/100\n",
      "34/34 [==============================] - 0s 2ms/step - loss: 137007344.0000 - root_mean_squared_error: 11705.0137\n",
      "Epoch 25/100\n",
      "34/34 [==============================] - 0s 2ms/step - loss: 136976592.0000 - root_mean_squared_error: 11703.7002\n",
      "Epoch 26/100\n",
      "34/34 [==============================] - 0s 2ms/step - loss: 136965056.0000 - root_mean_squared_error: 11703.2070\n",
      "Epoch 27/100\n",
      "34/34 [==============================] - 0s 2ms/step - loss: 137021824.0000 - root_mean_squared_error: 11705.6318\n",
      "Epoch 28/100\n",
      "34/34 [==============================] - 0s 2ms/step - loss: 136975072.0000 - root_mean_squared_error: 11703.6348\n",
      "Epoch 29/100\n",
      "34/34 [==============================] - 0s 2ms/step - loss: 137020176.0000 - root_mean_squared_error: 11705.5615\n",
      "Epoch 30/100\n",
      "34/34 [==============================] - 0s 2ms/step - loss: 137025360.0000 - root_mean_squared_error: 11705.7832\n",
      "Epoch 31/100\n",
      "34/34 [==============================] - 0s 2ms/step - loss: 137002784.0000 - root_mean_squared_error: 11704.8184\n",
      "Epoch 32/100\n",
      "34/34 [==============================] - 0s 2ms/step - loss: 136961808.0000 - root_mean_squared_error: 11703.0684\n",
      "Epoch 33/100\n",
      "34/34 [==============================] - 0s 2ms/step - loss: 136978816.0000 - root_mean_squared_error: 11703.7949\n",
      "Epoch 34/100\n",
      "34/34 [==============================] - 0s 1ms/step - loss: 136985920.0000 - root_mean_squared_error: 11704.0986\n",
      "Epoch 35/100\n",
      "34/34 [==============================] - 0s 2ms/step - loss: 136969104.0000 - root_mean_squared_error: 11703.3799\n",
      "Epoch 36/100\n",
      "34/34 [==============================] - 0s 2ms/step - loss: 136965648.0000 - root_mean_squared_error: 11703.2324\n",
      "Epoch 37/100\n",
      "34/34 [==============================] - 0s 2ms/step - loss: 136972256.0000 - root_mean_squared_error: 11703.5146\n",
      "Epoch 38/100\n",
      "34/34 [==============================] - 0s 2ms/step - loss: 136984384.0000 - root_mean_squared_error: 11704.0332\n",
      "Epoch 39/100\n",
      "34/34 [==============================] - 0s 2ms/step - loss: 136975968.0000 - root_mean_squared_error: 11703.6729\n",
      "Epoch 40/100\n",
      "34/34 [==============================] - 0s 2ms/step - loss: 136966528.0000 - root_mean_squared_error: 11703.2695\n",
      "Epoch 41/100\n",
      "34/34 [==============================] - 0s 2ms/step - loss: 136998064.0000 - root_mean_squared_error: 11704.6172\n",
      "Epoch 42/100\n",
      "34/34 [==============================] - 0s 2ms/step - loss: 137011952.0000 - root_mean_squared_error: 11705.2109\n",
      "Epoch 43/100\n",
      "34/34 [==============================] - 0s 2ms/step - loss: 136979376.0000 - root_mean_squared_error: 11703.8193\n",
      "Epoch 44/100\n",
      "34/34 [==============================] - 0s 2ms/step - loss: 136968944.0000 - root_mean_squared_error: 11703.3730\n",
      "Epoch 45/100\n",
      "34/34 [==============================] - 0s 2ms/step - loss: 137008480.0000 - root_mean_squared_error: 11705.0625\n",
      "Epoch 46/100\n",
      "34/34 [==============================] - 0s 2ms/step - loss: 136984288.0000 - root_mean_squared_error: 11704.0283\n",
      "Epoch 47/100\n",
      "34/34 [==============================] - 0s 2ms/step - loss: 137016272.0000 - root_mean_squared_error: 11705.3945\n",
      "Epoch 48/100\n",
      "34/34 [==============================] - 0s 1ms/step - loss: 136949136.0000 - root_mean_squared_error: 11702.5273\n",
      "Epoch 49/100\n",
      "34/34 [==============================] - 0s 1ms/step - loss: 136987040.0000 - root_mean_squared_error: 11704.1465\n",
      "Epoch 50/100\n",
      "34/34 [==============================] - 0s 1ms/step - loss: 137002672.0000 - root_mean_squared_error: 11704.8145\n",
      "Epoch 51/100\n",
      "34/34 [==============================] - 0s 2ms/step - loss: 137007120.0000 - root_mean_squared_error: 11705.0039\n",
      "Epoch 52/100\n",
      "34/34 [==============================] - 0s 1ms/step - loss: 137017168.0000 - root_mean_squared_error: 11705.4336\n",
      "Epoch 53/100\n",
      "34/34 [==============================] - 0s 2ms/step - loss: 136956448.0000 - root_mean_squared_error: 11702.8389\n",
      "Epoch 54/100\n",
      "34/34 [==============================] - 0s 2ms/step - loss: 137008176.0000 - root_mean_squared_error: 11705.0488\n",
      "Epoch 55/100\n",
      "34/34 [==============================] - 0s 1ms/step - loss: 136995856.0000 - root_mean_squared_error: 11704.5225\n",
      "Epoch 56/100\n",
      "34/34 [==============================] - 0s 2ms/step - loss: 137006960.0000 - root_mean_squared_error: 11704.9971\n",
      "Epoch 57/100\n",
      "34/34 [==============================] - 0s 1ms/step - loss: 136971888.0000 - root_mean_squared_error: 11703.4990\n",
      "Epoch 58/100\n",
      "34/34 [==============================] - 0s 2ms/step - loss: 137011424.0000 - root_mean_squared_error: 11705.1875\n",
      "Epoch 59/100\n",
      "34/34 [==============================] - 0s 2ms/step - loss: 136971648.0000 - root_mean_squared_error: 11703.4883\n",
      "Epoch 60/100\n",
      "34/34 [==============================] - 0s 1ms/step - loss: 136953808.0000 - root_mean_squared_error: 11702.7266\n",
      "Epoch 61/100\n",
      "34/34 [==============================] - 0s 1ms/step - loss: 137024688.0000 - root_mean_squared_error: 11705.7549\n",
      "Epoch 62/100\n",
      "34/34 [==============================] - 0s 2ms/step - loss: 137001072.0000 - root_mean_squared_error: 11704.7461\n",
      "Epoch 63/100\n",
      "34/34 [==============================] - 0s 2ms/step - loss: 137007056.0000 - root_mean_squared_error: 11705.0010\n",
      "Epoch 64/100\n",
      "34/34 [==============================] - 0s 2ms/step - loss: 136997936.0000 - root_mean_squared_error: 11704.6113\n",
      "Epoch 65/100\n",
      "34/34 [==============================] - 0s 1ms/step - loss: 136983520.0000 - root_mean_squared_error: 11703.9961\n",
      "Epoch 66/100\n",
      "34/34 [==============================] - 0s 1ms/step - loss: 136999584.0000 - root_mean_squared_error: 11704.6826\n",
      "Epoch 67/100\n",
      "34/34 [==============================] - 0s 2ms/step - loss: 136985328.0000 - root_mean_squared_error: 11704.0732\n",
      "Epoch 68/100\n",
      "34/34 [==============================] - 0s 2ms/step - loss: 136983984.0000 - root_mean_squared_error: 11704.0156\n",
      "Epoch 69/100\n",
      "34/34 [==============================] - 0s 1ms/step - loss: 137004432.0000 - root_mean_squared_error: 11704.8896\n",
      "Epoch 70/100\n",
      "34/34 [==============================] - 0s 1ms/step - loss: 136978064.0000 - root_mean_squared_error: 11703.7627\n",
      "Epoch 71/100\n",
      "34/34 [==============================] - 0s 1ms/step - loss: 136978176.0000 - root_mean_squared_error: 11703.7676\n",
      "Epoch 72/100\n",
      "34/34 [==============================] - 0s 1ms/step - loss: 136978096.0000 - root_mean_squared_error: 11703.7646\n",
      "Epoch 73/100\n",
      "34/34 [==============================] - 0s 1ms/step - loss: 136965952.0000 - root_mean_squared_error: 11703.2451\n",
      "Epoch 74/100\n",
      "34/34 [==============================] - 0s 1ms/step - loss: 137002048.0000 - root_mean_squared_error: 11704.7871\n",
      "Epoch 75/100\n",
      "34/34 [==============================] - 0s 2ms/step - loss: 136999568.0000 - root_mean_squared_error: 11704.6816\n",
      "Epoch 76/100\n",
      "34/34 [==============================] - 0s 1ms/step - loss: 137017312.0000 - root_mean_squared_error: 11705.4395\n",
      "Epoch 77/100\n",
      "34/34 [==============================] - 0s 1ms/step - loss: 136952224.0000 - root_mean_squared_error: 11702.6592\n",
      "Epoch 78/100\n",
      "34/34 [==============================] - 0s 2ms/step - loss: 136991488.0000 - root_mean_squared_error: 11704.3359\n",
      "Epoch 79/100\n",
      "34/34 [==============================] - 0s 2ms/step - loss: 137023936.0000 - root_mean_squared_error: 11705.7227\n",
      "Epoch 80/100\n",
      "34/34 [==============================] - 0s 2ms/step - loss: 136962896.0000 - root_mean_squared_error: 11703.1152\n",
      "Epoch 81/100\n",
      "34/34 [==============================] - 0s 1ms/step - loss: 136982448.0000 - root_mean_squared_error: 11703.9502\n",
      "Epoch 82/100\n",
      "34/34 [==============================] - 0s 2ms/step - loss: 136994624.0000 - root_mean_squared_error: 11704.4707\n",
      "Epoch 83/100\n",
      "34/34 [==============================] - 0s 1ms/step - loss: 137003904.0000 - root_mean_squared_error: 11704.8662\n",
      "Epoch 84/100\n",
      "34/34 [==============================] - 0s 1ms/step - loss: 136984304.0000 - root_mean_squared_error: 11704.0293\n",
      "Epoch 85/100\n",
      "34/34 [==============================] - 0s 2ms/step - loss: 136977696.0000 - root_mean_squared_error: 11703.7471\n",
      "Epoch 86/100\n",
      "34/34 [==============================] - 0s 2ms/step - loss: 136982464.0000 - root_mean_squared_error: 11703.9512\n",
      "Epoch 87/100\n",
      "34/34 [==============================] - 0s 2ms/step - loss: 137010544.0000 - root_mean_squared_error: 11705.1504\n",
      "Epoch 88/100\n",
      "34/34 [==============================] - 0s 2ms/step - loss: 136988256.0000 - root_mean_squared_error: 11704.1982\n",
      "Epoch 89/100\n",
      "34/34 [==============================] - 0s 2ms/step - loss: 137008288.0000 - root_mean_squared_error: 11705.0537\n",
      "Epoch 90/100\n",
      "34/34 [==============================] - 0s 1ms/step - loss: 136993968.0000 - root_mean_squared_error: 11704.4424\n",
      "Epoch 91/100\n",
      "34/34 [==============================] - 0s 2ms/step - loss: 136968336.0000 - root_mean_squared_error: 11703.3477\n",
      "Epoch 92/100\n",
      "34/34 [==============================] - 0s 2ms/step - loss: 136985888.0000 - root_mean_squared_error: 11704.0967\n",
      "Epoch 93/100\n",
      "34/34 [==============================] - 0s 1ms/step - loss: 137019552.0000 - root_mean_squared_error: 11705.5352\n",
      "Epoch 94/100\n",
      "34/34 [==============================] - 0s 2ms/step - loss: 137007712.0000 - root_mean_squared_error: 11705.0293\n",
      "Epoch 95/100\n",
      "34/34 [==============================] - 0s 2ms/step - loss: 137005808.0000 - root_mean_squared_error: 11704.9482\n",
      "Epoch 96/100\n",
      "34/34 [==============================] - 0s 2ms/step - loss: 137000880.0000 - root_mean_squared_error: 11704.7373\n",
      "Epoch 97/100\n",
      "34/34 [==============================] - 0s 2ms/step - loss: 137021120.0000 - root_mean_squared_error: 11705.6025\n",
      "Epoch 98/100\n",
      "34/34 [==============================] - 0s 2ms/step - loss: 136983904.0000 - root_mean_squared_error: 11704.0127\n",
      "Epoch 99/100\n",
      "34/34 [==============================] - 0s 2ms/step - loss: 136972720.0000 - root_mean_squared_error: 11703.5342\n",
      "Epoch 100/100\n",
      "34/34 [==============================] - 0s 2ms/step - loss: 136958528.0000 - root_mean_squared_error: 11702.9277\n"
     ]
    },
    {
     "data": {
      "text/plain": [
       "<keras.callbacks.History at 0x181203b57b0>"
      ]
     },
     "execution_count": 247,
     "metadata": {},
     "output_type": "execute_result"
    }
   ],
   "source": [
    "ann = keras.Sequential([\n",
    "    keras.layers.Dense(10, input_shape=(13,), activation='relu'),\n",
    "    keras.layers.Dense(3, activation='relu'),\n",
    "    keras.layers.Dense(1, activation='linear')\n",
    "])\n",
    "\n",
    "ann.compile(\n",
    "    optimizer='sgd',\n",
    "    loss='mse',\n",
    "    metrics=[tfl.keras.metrics.RootMeanSquaredError()]\n",
    ")\n",
    "\n",
    "ann.fit(X_train, y_train, epochs=100)"
   ]
  },
  {
   "attachments": {},
   "cell_type": "markdown",
   "metadata": {},
   "source": [
    "It does not seem to perform so well in this case, for sure it needs further implementation. "
   ]
  }
 ],
 "metadata": {
  "kernelspec": {
   "display_name": "Python 3.10.2 64-bit",
   "language": "python",
   "name": "python3"
  },
  "language_info": {
   "codemirror_mode": {
    "name": "ipython",
    "version": 3
   },
   "file_extension": ".py",
   "mimetype": "text/x-python",
   "name": "python",
   "nbconvert_exporter": "python",
   "pygments_lexer": "ipython3",
   "version": "3.10.2"
  },
  "orig_nbformat": 4,
  "vscode": {
   "interpreter": {
    "hash": "d5ea41e4a4ff96221c207c65d84f76a2ad4a045e3a80bca3429d461f1852c7cd"
   }
  }
 },
 "nbformat": 4,
 "nbformat_minor": 2
}
